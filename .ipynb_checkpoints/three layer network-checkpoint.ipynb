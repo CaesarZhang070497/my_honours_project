{
 "cells": [
  {
   "cell_type": "markdown",
   "metadata": {},
   "source": [
    "# num 3 layer autoencoder"
   ]
  },
  {
   "cell_type": "code",
   "execution_count": 1,
   "metadata": {},
   "outputs": [],
   "source": [
    "from __future__ import division, print_function, absolute_import\n",
    "import tensorflow as tf\n",
    "import numpy as np\n",
    "import os\n",
    "os.environ[\"KMP_DUPLICATE_LIB_OK\"] = \"TRUE\"\n",
    "import time\n",
    "import data_processing\n",
    "import gc\n",
    "import matplotlib.pyplot as plt\n",
    "\n",
    "from sklearn.cluster import KMeans\n",
    "import numpy as np\n",
    "\n",
    "import matplotlib.pyplot as plt"
   ]
  },
  {
   "cell_type": "code",
   "execution_count": 2,
   "metadata": {},
   "outputs": [],
   "source": [
    "def binary_to_dec(recommendering_user):\n",
    "    dec_array = []\n",
    "    for i in range(636):\n",
    "        first = i * 5\n",
    "        second = i * 5 + 1\n",
    "        third = i * 5 + 2\n",
    "        fourth = i * 5 + 3\n",
    "        fifth = i * 5 + 4\n",
    "\n",
    "        value = recommendering_user[first] * (2 ** 4) + recommendering_user[second] * (2 ** 3) + \\\n",
    "                recommendering_user[third] * (2 ** 2) + recommendering_user[fourth] * (2 ** 1) + recommendering_user[fifth]\n",
    "\n",
    "        dec_array.append(value)\n",
    "\n",
    "    return dec_array\n",
    "\n",
    "def binary_matrix_to_dec_matrix(recommendering_user):\n",
    "    result = []\n",
    "    for i in range(len(recommendering_user)):\n",
    "        result.append( binary_to_dec(recommendering_user[i]) )\n",
    "    return result\n",
    "\n",
    "def loss_function_accuracy_difference_between_true_label_and_probability(training_data_accuracy,true_label):\n",
    "    if true_label == 16 :\n",
    "        normalised_true_label = 0\n",
    "    else:\n",
    "        normalised_true_label = 1\n",
    "    result = np.abs((training_data_accuracy-normalised_true_label))\n",
    "    if result>1:\n",
    "        print('---caesar---')\n",
    "    return result\n",
    "\n",
    "def loss_function_accuracy_difference_between_true_label_and_prediction(training_data_accuracy,true_label):\n",
    "    if true_label == 16 :\n",
    "        normalised_true_label = 0\n",
    "    else:\n",
    "        normalised_true_label = 1\n",
    "\n",
    "    if training_data_accuracy>0.5:\n",
    "        predicted_value = 1\n",
    "    else:\n",
    "        predicted_value = 0\n",
    "    result = np.abs((normalised_true_label-predicted_value))\n",
    "    return result\n",
    "\n",
    "def fill_the_clusters(label_pred):\n",
    "    clusters = {}\n",
    "    for index, cluster_index in enumerate(label_pred):\n",
    "        if cluster_index not in clusters.keys():\n",
    "            clusters[cluster_index] = [ original_training_data[index] ]\n",
    "        else:\n",
    "            clusters[cluster_index].append(original_training_data[index])\n",
    "    return clusters\n",
    "\n",
    "def run_kmeans(n_clusters):\n",
    "    clusters = {}\n",
    "    estimator = KMeans(n_clusters=n_clusters)\n",
    "    estimator.fit(compressed_training_data)\n",
    "    label_pred = estimator.labels_\n",
    "    centroids = estimator.cluster_centers_\n",
    "    centroids = np.asarray(centroids)\n",
    "\n",
    "    return estimator,label_pred,centroids\n",
    "\n",
    "def calculate_loss(clusters):\n",
    "\n",
    "    loss_difference_between_true_label_and_probability = []\n",
    "\n",
    "    for i in range( len(compressed_testing_data) ):# for every test case\n",
    "\n",
    "        label = estimator.predict(np.reshape(compressed_testing_data[i],(1,-1)))\n",
    "\n",
    "        tempt = np.copy( clusters[label[0]] )\n",
    "\n",
    "        recommendering_user_binary = np.copy(original_testing_data[i])\n",
    "\n",
    "        # calculate accuracy\n",
    "        recommendering_user = binary_to_dec(recommendering_user_binary)\n",
    "\n",
    "        new_matrix = binary_matrix_to_dec_matrix( tempt )\n",
    "        #print(np.shape(new_matrix))\n",
    "        row_index = np.shape(new_matrix)[0]\n",
    "\n",
    "        poll_num = len(recommendering_user)\n",
    "        individual_accuracy = []\n",
    "\n",
    "        for j in range(poll_num): # for every poll of this test user\n",
    "            true_label =recommendering_user[j]\n",
    "            count = 0\n",
    "            true = 0\n",
    "            training_count = 0\n",
    "            for k in range(row_index):\n",
    "\n",
    "                if recommendering_user[j] != 0 :\n",
    "                    count = count+1\n",
    "                    new_matrix = np.asarray(new_matrix)\n",
    "                    column = new_matrix[:,j]\n",
    "\n",
    "                    if column[k] != 16 and column[k] != 0:\n",
    "                        true = true + 1\n",
    "                    if column[k] !=0:\n",
    "                        training_count = training_count+1\n",
    "\n",
    "            if training_count != 0:\n",
    "                training_data_accuracy = true/training_count\n",
    "                the_loss_of_each_poll = loss_function_accuracy_difference_between_true_label_and_probability(training_data_accuracy,true_label)\n",
    "                individual_accuracy.append(the_loss_of_each_poll)\n",
    "\n",
    "        the_loss_of_a_user = np.average(individual_accuracy)\n",
    "        loss_difference_between_true_label_and_probability.append(the_loss_of_a_user)\n",
    "    return loss_difference_between_true_label_and_probability"
   ]
  },
  {
   "cell_type": "code",
   "execution_count": 7,
   "metadata": {},
   "outputs": [],
   "source": [
    "def calculate_loss2(clusters):\n",
    "\n",
    "    loss_difference_between_true_label_and_probability = []\n",
    "\n",
    "    for i in range( len(compressed_testing_data) ):# for every test case\n",
    "\n",
    "        label = estimator.predict(np.reshape(compressed_testing_data[i],(1,-1)))\n",
    "\n",
    "        tempt = np.copy( clusters[label[0]] )\n",
    "\n",
    "        recommendering_user_binary = np.copy(original_testing_data[i])\n",
    "\n",
    "        # calculate accuracy\n",
    "        recommendering_user = binary_to_dec(recommendering_user_binary)\n",
    "\n",
    "        new_matrix = binary_matrix_to_dec_matrix( tempt )\n",
    "        #print(np.shape(new_matrix))\n",
    "        row_index = np.shape(new_matrix)[0]\n",
    "\n",
    "        poll_num = len(recommendering_user)\n",
    "        individual_accuracy = []\n",
    "\n",
    "        for j in range(poll_num): # for every poll of this test user\n",
    "            true_label =recommendering_user[j]\n",
    "            count = 0\n",
    "            true = 0\n",
    "            training_count = 0\n",
    "            for k in range(row_index):\n",
    "\n",
    "                if recommendering_user[j] != 0 :\n",
    "                    count = count+1\n",
    "                    new_matrix = np.asarray(new_matrix)\n",
    "                    column = new_matrix[:,j]\n",
    "\n",
    "                    if column[k] != 16 and column[k] != 0:\n",
    "                        true = true + 1\n",
    "                    if column[k] !=0:\n",
    "                        training_count = training_count+1\n",
    "\n",
    "            if training_count != 0:\n",
    "                training_data_accuracy = true/training_count\n",
    "                the_loss_of_each_poll = loss_function_accuracy_difference_between_true_label_and_prediction(training_data_accuracy,true_label)\n",
    "                individual_accuracy.append(the_loss_of_each_poll)\n",
    "\n",
    "        the_loss_of_a_user = np.average(individual_accuracy)\n",
    "        loss_difference_between_true_label_and_probability.append(the_loss_of_a_user)\n",
    "    return loss_difference_between_true_label_and_probability"
   ]
  },
  {
   "cell_type": "code",
   "execution_count": 5,
   "metadata": {},
   "outputs": [],
   "source": [
    "class autoencoder(object):# 155 27 128 101 74\n",
    "    def __init__(self,num_epochs=100, display_step=100, learning_rate=0.1, batch_size=100,\n",
    "                 denoising=False, new_poll_weight=0.002,masking=0, num_layers=3, num_hidden_1=155,\n",
    "                 num_hidden_2=81,num_hidden_3=27,num_hidden_4=9,num_hidden_5=3,continue_from_saved=False, time_decay=1):\n",
    "\n",
    "        self.data_provider = data_processing.data_provider('/Users/caesar/PycharmProjects/my_honours_project/src/this_that.json')\n",
    "        self.data_provider.parse()\n",
    "        # Interactions are fed as binary but using decimal helps with adding 2 interactions together\n",
    "        self.interaction_dict = {'skips': 16,\n",
    "            'owns': 8,\n",
    "            'tracks': 4,\n",
    "            'comment': 2,\n",
    "            'vote': 1\n",
    "        }\n",
    "\n",
    "        self.polls = self.data_provider.polls  # [:50]\n",
    "        self.num_engagements = len(self.interaction_dict)\n",
    "\n",
    "        self.num_input = len(self.polls) * self.num_engagements\n",
    "        tf.set_random_seed(1)\n",
    "\n",
    "\n",
    "\n",
    "        self.users = self.data_provider.users#[:50]\n",
    "\n",
    "        self.test_polls = self.data_provider.polls#[500:]\n",
    "        self.num_epochs = num_epochs # initial training eppchs given training data\n",
    "        self.display_step = display_step # display training loss every x epochs\n",
    "        self.learning_rate = learning_rate\n",
    "        self.batch_size = batch_size\n",
    "        self.denoising = denoising # whether to add noise to the input vectors - might help with accidental interactions\n",
    "        self.new_poll_weight = new_poll_weight # How much weight new polls are given in the output layer (gives new polls some initial traction)\n",
    "        self.masking = masking # TODO: Add masking to data to make synthetic users with less interactions and see if it helps\n",
    "        self.num_layers = num_layers\n",
    "        self.num_hidden_1 = num_hidden_1\n",
    "        self.num_hidden_2 = num_hidden_2\n",
    "        self.num_hidden_3 = num_hidden_3\n",
    "        self.num_hidden_4 = num_hidden_4\n",
    "        self.num_hidden_5 = num_hidden_5\n",
    "        self.continue_from_saved = continue_from_saved\n",
    "        self.train= self.data_provider.train\n",
    "        self.test = self.data_provider.test\n",
    "        self.validation = self.data_provider.validation\n",
    "        self.test_users = []\n",
    "        self.time_decay = time_decay\n",
    "        self.X = tf.compat.v1.placeholder(\"float\", [None, None])\n",
    "        self.Y = tf.compat.v1.placeholder(\"float\", [None, None])\n",
    "        self.saver = None\n",
    "\n",
    "        self.compressed_train = []\n",
    "        self.compressed_test = []\n",
    "\n",
    "        self.weights2 = {\n",
    "            'encoder_h1': tf.Variable(tf.random_normal([self.num_input, self.num_hidden_1])),\n",
    "            'encoder_h2': tf.Variable(tf.random_normal([self.num_hidden_1, self.num_hidden_2])),\n",
    "            'encoder_h3': tf.Variable(tf.random_normal([self.num_hidden_2, self.num_hidden_3])),\n",
    "\n",
    "            'encoder_h4': tf.Variable(tf.random_normal([self.num_hidden_3, self.num_hidden_4])),\n",
    "\n",
    "            'decoder_h1': tf.Variable(tf.random_normal([self.num_hidden_3, self.num_hidden_2])),\n",
    "            'decoder_h2': tf.Variable(tf.random_normal([self.num_hidden_2, self.num_hidden_1])),\n",
    "            'decoder_h3': tf.Variable(tf.random_normal([self.num_hidden_1, self.num_input])),\n",
    "        }\n",
    "        self.biases2 = {\n",
    "            'encoder_b1': tf.Variable(tf.random_normal([self.num_hidden_1])),\n",
    "            'encoder_b2': tf.Variable(tf.random_normal([self.num_hidden_2])),\n",
    "            'encoder_b3': tf.Variable(tf.random_normal([self.num_hidden_3])),\n",
    "\n",
    "            'encoder_b4': tf.Variable(tf.random_normal([self.num_hidden_4])),\n",
    "            'encoder_b5': tf.Variable(tf.random_normal([self.num_hidden_5])),\n",
    "\n",
    "            'decoder_b1': tf.Variable(tf.random_normal([self.num_hidden_2])),\n",
    "            'decoder_b2': tf.Variable(tf.random_normal([self.num_hidden_1])),\n",
    "            'decoder_b3': tf.Variable(tf.random_normal([self.num_input])),\n",
    "\n",
    "        }\n",
    "\n",
    "\n",
    "        self.encoder_op = self.encoder(self.X)\n",
    "        self.decoder_op = self.decoder(self.encoder_op)\n",
    "        self.setup_graph()\n",
    "\n",
    "        self.train_and_predict()\n",
    "\n",
    "    def encoder(self, x):\n",
    "        layer_1 = tf.nn.sigmoid(tf.add(tf.matmul(x, self.weights2['encoder_h1']),self.biases2['encoder_b1']))\n",
    "        layer_2 = tf.nn.sigmoid(tf.add(tf.matmul(layer_1, self.weights2['encoder_h2']),self.biases2['encoder_b2']))\n",
    "        layer_3 = tf.nn.sigmoid(tf.add(tf.matmul(layer_2, self.weights2['encoder_h3']), self.biases2['encoder_b3']))\n",
    "\n",
    "        return layer_3\n",
    "\n",
    "    def decoder(self, x):\n",
    "\n",
    "        layer_1 = tf.nn.sigmoid(tf.add(tf.matmul(x, self.weights2['decoder_h1']),self.biases2['decoder_b1']))\n",
    "        layer_2 = tf.nn.sigmoid(tf.add(tf.matmul(layer_1, self.weights2['decoder_h2']), self.biases2['decoder_b2']))\n",
    "        layer_3 = tf.nn.sigmoid(tf.add(tf.matmul(layer_2, self.weights2['decoder_h3']), self.biases2['decoder_b3']))\n",
    "        return layer_3\n",
    "\n",
    "    def setup_graph(self):\n",
    "\n",
    "        # Prediction\n",
    "        self.y_pred = self.decoder_op\n",
    "\n",
    "        self.y_true = self.Y\n",
    "        self.loss = self._loss()\n",
    "        self.optimizer = tf.train.RMSPropOptimizer(self.learning_rate).minimize(self.loss)\n",
    "\n",
    "        self.init = tf.global_variables_initializer()\n",
    "        self.saver = tf.train.Saver()\n",
    "\n",
    "    def _loss(self):\n",
    "        return tf.reduce_mean(tf.pow(self.y_true - self.y_pred, 2))\n",
    "\n",
    "    def train_and_predict(self, save=True):\n",
    "        gc.collect()\n",
    "\n",
    "        f = open(\"guru99.txt\", \"w+\")\n",
    "\n",
    "        with tf.Session() as sess:\n",
    "\n",
    "            sess.run(tf.global_variables_initializer())\n",
    "\n",
    "            train_loss = []\n",
    "            validation_loss = []\n",
    "            t0 = time.time()\n",
    "\n",
    "            for i in range(0,self.num_epochs):\n",
    "\n",
    "                batch_x = self.train[np.random.choice(self.train.shape[0], self.batch_size, replace=True), :]\n",
    "                batch_y = np.copy(batch_x)\n",
    "\n",
    "                _, l = sess.run([self.optimizer, self.loss], feed_dict={self.X: batch_x, self.Y: batch_y})\n",
    "                train_loss.append(l)\n",
    "\n",
    "\n",
    "                # print(\"the minibatch loss for epoch %d is %f\"% (i,l));\n",
    "\n",
    "                f.write(\"%f\\r\\n\" % l)\n",
    "\n",
    "                l = sess.run(self.loss, feed_dict={self.X: self.validation, self.Y: self.validation})\n",
    "                validation_loss.append(l)\n",
    "                if save and (i == 0 or i % self.display_step == 0):\n",
    "                    self.saver.save(sess, 'refactored/model.ckpt')\n",
    "\n",
    "            train_encoder_result = sess.run(self.encoder_op, feed_dict={self.X: self.train})\n",
    "            test_encoder_result = sess.run(self.encoder_op, feed_dict={self.X: self.test})\n",
    "\n",
    "            print()\n",
    "\n",
    "            self.compressed_train = np.copy(train_encoder_result)\n",
    "            self.compressed_test = np.copy(test_encoder_result)\n",
    "            # print(test_encoder_result)\n",
    "\n",
    "            xs = np.arange(1,self.num_epochs+1,1)\n",
    "            ys = train_loss\n",
    "\n",
    "            plt.plot(xs, ys,color = 'b')\n",
    "            xs = np.arange(1, self.num_epochs+1, 1)\n",
    "            ys = validation_loss\n",
    "            plt.plot(xs, ys,color = 'r')\n",
    "            plt.show()\n",
    "\n",
    "            print('autoencoder finished')\n",
    "        sess.close()\n"
   ]
  },
  {
   "cell_type": "markdown",
   "metadata": {},
   "source": [
    "# training epoch is 1000"
   ]
  },
  {
   "cell_type": "code",
   "execution_count": 21,
   "metadata": {},
   "outputs": [
    {
     "name": "stdout",
     "output_type": "stream",
     "text": [
      "\n"
     ]
    },
    {
     "data": {
      "image/png": "[encoded data removed]",
      "text/plain": [
       "<Figure size 432x288 with 1 Axes>"
      ]
     },
     "metadata": {
      "needs_background": "light"
     },
     "output_type": "display_data"
    },
    {
     "name": "stdout",
     "output_type": "stream",
     "text": [
      "autoencoder finished\n"
     ]
    }
   ],
   "source": [
    "a = autoencoder(num_epochs=1000, denoising=False, masking=0.5, display_step=200)\n",
    "\n",
    "compressed_training_data = a.compressed_train\n",
    "\n",
    "original_training_data = a.train\n",
    "\n",
    "compressed_testing_data = a.compressed_test\n",
    "original_testing_data = a.test"
   ]
  },
  {
   "cell_type": "code",
   "execution_count": 24,
   "metadata": {},
   "outputs": [
    {
     "name": "stdout",
     "output_type": "stream",
     "text": [
      "loss_difference_between_true_label_and_probability : 0.10609548012793654\n",
      "loss_difference_between_true_label_and_probability : 0.103381964552905\n",
      "loss_difference_between_true_label_and_probability : 0.1027352166787109\n",
      "loss_difference_between_true_label_and_probability : 0.10240075042876165\n",
      "loss_difference_between_true_label_and_probability : 0.0957586530224495\n",
      "loss_difference_between_true_label_and_probability : 0.09753020299397587\n",
      "loss_difference_between_true_label_and_probability : 0.09339324501952825\n",
      "loss_difference_between_true_label_and_probability : 0.09170290426663263\n",
      "loss_difference_between_true_label_and_probability : 0.09108392183863803\n",
      "loss_difference_between_true_label_and_probability : 0.08708394484930727\n",
      "loss_difference_between_true_label_and_probability : 0.09077574643942031\n",
      "loss_difference_between_true_label_and_probability : 0.08646871602497785\n",
      "loss_difference_between_true_label_and_probability : 0.08950716111121054\n",
      "loss_difference_between_true_label_and_probability : 0.08778427384497911\n",
      "loss_difference_between_true_label_and_probability : 0.08833662613878689\n",
      "loss_difference_between_true_label_and_probability : 0.08287797892600303\n",
      "loss_difference_between_true_label_and_probability : 0.08180344323859066\n",
      "loss_difference_between_true_label_and_probability : 0.07999361213856691\n",
      "loss_difference_between_true_label_and_probability : 0.0775048982036338\n",
      "loss_difference_between_true_label_and_probability : 0.0676530386963089\n",
      "loss_difference_between_true_label_and_probability : 0.07352516426781637\n",
      "loss_difference_between_true_label_and_probability : 0.0710989496239105\n",
      "loss_difference_between_true_label_and_probability : 0.06553820247759529\n",
      "loss_difference_between_true_label_and_probability : 0.06586315020981541\n",
      "loss_difference_between_true_label_and_probability : 0.06801338085140524\n",
      "loss_difference_between_true_label_and_probability : 0.06934398493980944\n",
      "loss_difference_between_true_label_and_probability : 0.06991297584162272\n",
      "loss_difference_between_true_label_and_probability : 0.06765253154038908\n",
      "loss_difference_between_true_label_and_probability : 0.05946707925063104\n",
      "loss_difference_between_true_label_and_probability : 0.0676861590536914\n"
     ]
    },
    {
     "data": {
      "image/png": "[encoded data removed]",
      "text/plain": [
       "<Figure size 576x288 with 1 Axes>"
      ]
     },
     "metadata": {
      "needs_background": "light"
     },
     "output_type": "display_data"
    },
    {
     "name": "stdout",
     "output_type": "stream",
     "text": [
      "----------------------------- the execution ends here -----------------------------------------\n"
     ]
    }
   ],
   "source": [
    "#n_clusters =20\n",
    "train_loss = []\n",
    "for n_clusters in np.arange(1,31):\n",
    "    average_loss_with_different_k_values = []\n",
    "\n",
    "    estimator,label_pred,centroids = run_kmeans(n_clusters)\n",
    "\n",
    "    clusters = fill_the_clusters(label_pred)\n",
    "\n",
    "    # print(len(clusters))\n",
    "\n",
    "    loss_difference_between_true_label_and_probability = calculate_loss(clusters)\n",
    "\n",
    "    # print('k is :                                               %s' % n_clusters)\n",
    "    l = np.average(loss_difference_between_true_label_and_probability)\n",
    "    # print(n_clusters, np.average(loss_difference_between_true_label_and_probability))\n",
    "\n",
    "    print('loss_difference_between_true_label_and_probability : %s'% np.average(loss_difference_between_true_label_and_probability))\n",
    "    average_loss_with_different_k_values.append((n_clusters,l))\n",
    "    train_loss.append(np.average(loss_difference_between_true_label_and_probability))\n",
    "\n",
    "\n",
    "xs = np.arange(1,31)\n",
    "ys = train_loss\n",
    "fig, ax = plt.subplots(figsize=(8, 4))\n",
    "ys = np.reshape(ys,(30,-1))\n",
    "ax.plot(xs, ys)\n",
    "ax.set_xlabel('the value of k')\n",
    "ax.set_ylabel('the loss of recommender system, difference between recommendation and reality')\n",
    "plt.show()\n",
    "\n",
    "print('----------------------------- the execution ends here -----------------------------------------')"
   ]
  },
  {
   "cell_type": "code",
   "execution_count": 25,
   "metadata": {},
   "outputs": [
    {
     "name": "stdout",
     "output_type": "stream",
     "text": [
      "loss_difference_between_true_label_and_probability : 0.056154318744004235\n",
      "loss_difference_between_true_label_and_probability : 0.056047945527751615\n",
      "loss_difference_between_true_label_and_probability : 0.05556234106224326\n",
      "loss_difference_between_true_label_and_probability : 0.054060334297078606\n",
      "loss_difference_between_true_label_and_probability : 0.05233862569449206\n",
      "loss_difference_between_true_label_and_probability : 0.05246699539924174\n",
      "loss_difference_between_true_label_and_probability : 0.04935381709493715\n",
      "loss_difference_between_true_label_and_probability : 0.050315091381322986\n",
      "loss_difference_between_true_label_and_probability : 0.05060448716300203\n",
      "loss_difference_between_true_label_and_probability : 0.053820089273291224\n",
      "loss_difference_between_true_label_and_probability : 0.05699681797127901\n",
      "loss_difference_between_true_label_and_probability : 0.06087045874972146\n",
      "loss_difference_between_true_label_and_probability : 0.05267680759744589\n",
      "loss_difference_between_true_label_and_probability : 0.053624260039816865\n",
      "loss_difference_between_true_label_and_probability : 0.052367772958531456\n",
      "loss_difference_between_true_label_and_probability : 0.05477842920670933\n",
      "loss_difference_between_true_label_and_probability : 0.05638726867117371\n",
      "loss_difference_between_true_label_and_probability : 0.05659614016587011\n",
      "loss_difference_between_true_label_and_probability : 0.055865263144222445\n",
      "loss_difference_between_true_label_and_probability : 0.05508229042727534\n",
      "loss_difference_between_true_label_and_probability : 0.054425219786615575\n",
      "loss_difference_between_true_label_and_probability : 0.06022564325544799\n",
      "loss_difference_between_true_label_and_probability : 0.055296902958851334\n",
      "loss_difference_between_true_label_and_probability : 0.06290994064114354\n",
      "loss_difference_between_true_label_and_probability : 0.05602523749244028\n",
      "loss_difference_between_true_label_and_probability : 0.04283500292637119\n",
      "loss_difference_between_true_label_and_probability : 0.05560647379799506\n",
      "loss_difference_between_true_label_and_probability : 0.04903303035284531\n",
      "loss_difference_between_true_label_and_probability : 0.05326464741985954\n",
      "loss_difference_between_true_label_and_probability : 0.052604884044044356\n"
     ]
    },
    {
     "data": {
      "image/png": "[encoded data removed]",
      "text/plain": [
       "<Figure size 576x288 with 1 Axes>"
      ]
     },
     "metadata": {
      "needs_background": "light"
     },
     "output_type": "display_data"
    },
    {
     "name": "stdout",
     "output_type": "stream",
     "text": [
      "----------------------------- the execution ends here -----------------------------------------\n"
     ]
    }
   ],
   "source": [
    "#n_clusters =20\n",
    "train_loss = []\n",
    "for n_clusters in np.arange(1,31):\n",
    "    average_loss_with_different_k_values = []\n",
    "\n",
    "    estimator,label_pred,centroids = run_kmeans(n_clusters)\n",
    "\n",
    "    clusters = fill_the_clusters(label_pred)\n",
    "\n",
    "    # print(len(clusters))\n",
    "\n",
    "    loss_difference_between_true_label_and_probability = calculate_loss2(clusters)\n",
    "\n",
    "    # print('k is :                                               %s' % n_clusters)\n",
    "    l = np.average(loss_difference_between_true_label_and_probability)\n",
    "    # print(n_clusters, np.average(loss_difference_between_true_label_and_probability))\n",
    "\n",
    "    print('loss_difference_between_true_label_and_probability : %s'% np.average(loss_difference_between_true_label_and_probability))\n",
    "    average_loss_with_different_k_values.append((n_clusters,l))\n",
    "    train_loss.append(np.average(loss_difference_between_true_label_and_probability))\n",
    "\n",
    "\n",
    "xs = np.arange(1,31)\n",
    "ys = train_loss\n",
    "fig, ax = plt.subplots(figsize=(8, 4))\n",
    "ys = np.reshape(ys,(30,-1))\n",
    "ax.plot(xs, ys)\n",
    "ax.set_xlabel('the value of k')\n",
    "ax.set_ylabel('the loss of recommender system, difference between recommendation and reality')\n",
    "plt.show()\n",
    "\n",
    "print('----------------------------- the execution ends here -----------------------------------------')"
   ]
  },
  {
   "cell_type": "markdown",
   "metadata": {},
   "source": [
    "# # training epoch is 2000"
   ]
  },
  {
   "cell_type": "code",
   "execution_count": 26,
   "metadata": {},
   "outputs": [
    {
     "name": "stdout",
     "output_type": "stream",
     "text": [
      "\n"
     ]
    },
    {
     "data": {
      "image/png": "[encoded data removed]",
      "text/plain": [
       "<Figure size 432x288 with 1 Axes>"
      ]
     },
     "metadata": {
      "needs_background": "light"
     },
     "output_type": "display_data"
    },
    {
     "name": "stdout",
     "output_type": "stream",
     "text": [
      "autoencoder finished\n"
     ]
    }
   ],
   "source": [
    "a = autoencoder(num_epochs=2000, denoising=False, masking=0.5, display_step=200)\n",
    "\n",
    "compressed_training_data = a.compressed_train\n",
    "\n",
    "original_training_data = a.train\n",
    "\n",
    "compressed_testing_data = a.compressed_test\n",
    "original_testing_data = a.test"
   ]
  },
  {
   "cell_type": "code",
   "execution_count": 27,
   "metadata": {},
   "outputs": [
    {
     "name": "stdout",
     "output_type": "stream",
     "text": [
      "loss_difference_between_true_label_and_probability : 0.10609548012793654\n",
      "loss_difference_between_true_label_and_probability : 0.09475259122859124\n",
      "loss_difference_between_true_label_and_probability : 0.09475259122859124\n",
      "loss_difference_between_true_label_and_probability : 0.09383021768880095\n",
      "loss_difference_between_true_label_and_probability : 0.09383021768880095\n",
      "loss_difference_between_true_label_and_probability : 0.09399426588437108\n",
      "loss_difference_between_true_label_and_probability : 0.09399426588437108\n",
      "loss_difference_between_true_label_and_probability : 0.09127070291824613\n",
      "loss_difference_between_true_label_and_probability : 0.09127070291824613\n",
      "loss_difference_between_true_label_and_probability : 0.09135054118204004\n",
      "loss_difference_between_true_label_and_probability : 0.09135054118204004\n",
      "loss_difference_between_true_label_and_probability : 0.09047642452190624\n",
      "loss_difference_between_true_label_and_probability : 0.08958385677538598\n",
      "loss_difference_between_true_label_and_probability : 0.08859185178480442\n",
      "loss_difference_between_true_label_and_probability : 0.08467879221647649\n",
      "loss_difference_between_true_label_and_probability : 0.08517273950014921\n",
      "loss_difference_between_true_label_and_probability : 0.08415033660738627\n",
      "loss_difference_between_true_label_and_probability : 0.08759793446482321\n",
      "loss_difference_between_true_label_and_probability : 0.08240854540110916\n",
      "loss_difference_between_true_label_and_probability : 0.08096968299642708\n",
      "loss_difference_between_true_label_and_probability : 0.07897624469603437\n",
      "loss_difference_between_true_label_and_probability : 0.07942157215080577\n",
      "loss_difference_between_true_label_and_probability : 0.07932270140713138\n",
      "loss_difference_between_true_label_and_probability : 0.07760738375587443\n",
      "loss_difference_between_true_label_and_probability : 0.07654874711342867\n",
      "loss_difference_between_true_label_and_probability : 0.07529312562142601\n",
      "loss_difference_between_true_label_and_probability : 0.07372618078367978\n",
      "loss_difference_between_true_label_and_probability : 0.07437349631403611\n",
      "loss_difference_between_true_label_and_probability : 0.07347069875755653\n",
      "loss_difference_between_true_label_and_probability : 0.07307968687977302\n"
     ]
    },
    {
     "data": {
      "image/png": "[encoded data removed]",
      "text/plain": [
       "<Figure size 576x288 with 1 Axes>"
      ]
     },
     "metadata": {
      "needs_background": "light"
     },
     "output_type": "display_data"
    },
    {
     "name": "stdout",
     "output_type": "stream",
     "text": [
      "----------------------------- the execution ends here -----------------------------------------\n"
     ]
    }
   ],
   "source": [
    "#n_clusters =20\n",
    "train_loss = []\n",
    "for n_clusters in np.arange(1,31):\n",
    "    average_loss_with_different_k_values = []\n",
    "\n",
    "    estimator,label_pred,centroids = run_kmeans(n_clusters)\n",
    "\n",
    "    clusters = fill_the_clusters(label_pred)\n",
    "\n",
    "    # print(len(clusters))\n",
    "\n",
    "    loss_difference_between_true_label_and_probability = calculate_loss(clusters)\n",
    "\n",
    "    # print('k is :                                               %s' % n_clusters)\n",
    "    l = np.average(loss_difference_between_true_label_and_probability)\n",
    "    # print(n_clusters, np.average(loss_difference_between_true_label_and_probability))\n",
    "\n",
    "    print('loss_difference_between_true_label_and_probability : %s'% np.average(loss_difference_between_true_label_and_probability))\n",
    "    average_loss_with_different_k_values.append((n_clusters,l))\n",
    "    train_loss.append(np.average(loss_difference_between_true_label_and_probability))\n",
    "\n",
    "\n",
    "xs = np.arange(1,31)\n",
    "ys = train_loss\n",
    "fig, ax = plt.subplots(figsize=(8, 4))\n",
    "ys = np.reshape(ys,(30,-1))\n",
    "ax.plot(xs, ys)\n",
    "ax.set_xlabel('the value of k')\n",
    "ax.set_ylabel('the loss of recommender system, difference between recommendation and reality')\n",
    "plt.show()\n",
    "\n",
    "print('----------------------------- the execution ends here -----------------------------------------')"
   ]
  },
  {
   "cell_type": "code",
   "execution_count": 28,
   "metadata": {},
   "outputs": [
    {
     "name": "stdout",
     "output_type": "stream",
     "text": [
      "loss_difference_between_true_label_and_probability : 0.10609548012793654\n",
      "loss_difference_between_true_label_and_probability : 0.09475259122859124\n",
      "loss_difference_between_true_label_and_probability : 0.09475259122859124\n",
      "loss_difference_between_true_label_and_probability : 0.09383021768880095\n",
      "loss_difference_between_true_label_and_probability : 0.09383021768880095\n",
      "loss_difference_between_true_label_and_probability : 0.09460491795829216\n",
      "loss_difference_between_true_label_and_probability : 0.0919173369573353\n",
      "loss_difference_between_true_label_and_probability : 0.09194562676968104\n",
      "loss_difference_between_true_label_and_probability : 0.09127070291824613\n",
      "loss_difference_between_true_label_and_probability : 0.09135054118204004\n",
      "loss_difference_between_true_label_and_probability : 0.09135054118204004\n",
      "loss_difference_between_true_label_and_probability : 0.08946596844493823\n",
      "loss_difference_between_true_label_and_probability : 0.08859185178480442\n",
      "loss_difference_between_true_label_and_probability : 0.08551707087281926\n",
      "loss_difference_between_true_label_and_probability : 0.08894422818926623\n",
      "loss_difference_between_true_label_and_probability : 0.08372521514850498\n",
      "loss_difference_between_true_label_and_probability : 0.08310395529938966\n",
      "loss_difference_between_true_label_and_probability : 0.083335137537905\n",
      "loss_difference_between_true_label_and_probability : 0.07957013364266811\n",
      "loss_difference_between_true_label_and_probability : 0.08079480025125203\n",
      "loss_difference_between_true_label_and_probability : 0.08008442222380839\n",
      "loss_difference_between_true_label_and_probability : 0.07727813541127712\n",
      "loss_difference_between_true_label_and_probability : 0.07654988041386025\n",
      "loss_difference_between_true_label_and_probability : 0.07513092386403789\n",
      "loss_difference_between_true_label_and_probability : 0.07503551464253057\n",
      "loss_difference_between_true_label_and_probability : 0.07605690742405262\n",
      "loss_difference_between_true_label_and_probability : 0.0738530728812532\n",
      "loss_difference_between_true_label_and_probability : 0.0745056515792187\n",
      "loss_difference_between_true_label_and_probability : 0.0729952127130888\n",
      "loss_difference_between_true_label_and_probability : 0.073340657599431\n"
     ]
    },
    {
     "data": {
      "image/png": "[encoded data removed]",
      "text/plain": [
       "<Figure size 576x288 with 1 Axes>"
      ]
     },
     "metadata": {
      "needs_background": "light"
     },
     "output_type": "display_data"
    },
    {
     "name": "stdout",
     "output_type": "stream",
     "text": [
      "----------------------------- the execution ends here -----------------------------------------\n"
     ]
    }
   ],
   "source": [
    "#n_clusters =20\n",
    "train_loss = []\n",
    "for n_clusters in np.arange(1,31):\n",
    "    average_loss_with_different_k_values = []\n",
    "\n",
    "    estimator,label_pred,centroids = run_kmeans(n_clusters)\n",
    "\n",
    "    clusters = fill_the_clusters(label_pred)\n",
    "\n",
    "    # print(len(clusters))\n",
    "\n",
    "    loss_difference_between_true_label_and_probability = calculate_loss(clusters)\n",
    "\n",
    "    # print('k is :                                               %s' % n_clusters)\n",
    "    l = np.average(loss_difference_between_true_label_and_probability)\n",
    "    # print(n_clusters, np.average(loss_difference_between_true_label_and_probability))\n",
    "\n",
    "    print('loss_difference_between_true_label_and_probability : %s'% np.average(loss_difference_between_true_label_and_probability))\n",
    "    average_loss_with_different_k_values.append((n_clusters,l))\n",
    "    train_loss.append(np.average(loss_difference_between_true_label_and_probability))\n",
    "\n",
    "\n",
    "xs = np.arange(1,31)\n",
    "ys = train_loss\n",
    "fig, ax = plt.subplots(figsize=(8, 4))\n",
    "ys = np.reshape(ys,(30,-1))\n",
    "ax.plot(xs, ys)\n",
    "ax.set_xlabel('the value of k')\n",
    "ax.set_ylabel('the loss of recommender system, difference between recommendation and reality')\n",
    "plt.show()\n",
    "\n",
    "print('----------------------------- the execution ends here -----------------------------------------')"
   ]
  },
  {
   "cell_type": "markdown",
   "metadata": {},
   "source": [
    "# # training epoch is 3000\n"
   ]
  },
  {
   "cell_type": "code",
   "execution_count": 30,
   "metadata": {},
   "outputs": [
    {
     "name": "stdout",
     "output_type": "stream",
     "text": [
      "\n"
     ]
    },
    {
     "data": {
      "image/png": "[encoded data removed]",
      "text/plain": [
       "<Figure size 432x288 with 1 Axes>"
      ]
     },
     "metadata": {
      "needs_background": "light"
     },
     "output_type": "display_data"
    },
    {
     "name": "stdout",
     "output_type": "stream",
     "text": [
      "autoencoder finished\n"
     ]
    }
   ],
   "source": [
    "a = autoencoder(num_epochs=3000, denoising=False, masking=0.5, display_step=200)\n",
    "\n",
    "compressed_training_data = a.compressed_train\n",
    "\n",
    "original_training_data = a.train\n",
    "\n",
    "compressed_testing_data = a.compressed_test\n",
    "original_testing_data = a.test"
   ]
  },
  {
   "cell_type": "code",
   "execution_count": 31,
   "metadata": {},
   "outputs": [
    {
     "name": "stdout",
     "output_type": "stream",
     "text": [
      "loss_difference_between_true_label_and_probability : 0.10609548012793654\n",
      "loss_difference_between_true_label_and_probability : 0.10111609433564073\n",
      "loss_difference_between_true_label_and_probability : 0.10062989705857452\n",
      "loss_difference_between_true_label_and_probability : 0.09382885742143249\n",
      "loss_difference_between_true_label_and_probability : 0.09548096785535158\n",
      "loss_difference_between_true_label_and_probability : 0.09412742380714322\n",
      "loss_difference_between_true_label_and_probability : 0.09326045760682569\n",
      "loss_difference_between_true_label_and_probability : 0.09180990480432108\n",
      "loss_difference_between_true_label_and_probability : 0.09135424333432364\n",
      "loss_difference_between_true_label_and_probability : 0.09406474978395851\n",
      "loss_difference_between_true_label_and_probability : 0.08965763048408422\n",
      "loss_difference_between_true_label_and_probability : 0.08740622262153261\n",
      "loss_difference_between_true_label_and_probability : 0.08767511517522986\n",
      "loss_difference_between_true_label_and_probability : 0.08389713363465488\n",
      "loss_difference_between_true_label_and_probability : 0.08672847905990604\n",
      "loss_difference_between_true_label_and_probability : 0.08536992949015293\n",
      "loss_difference_between_true_label_and_probability : 0.07311993036278873\n",
      "loss_difference_between_true_label_and_probability : 0.08039825885543884\n",
      "loss_difference_between_true_label_and_probability : 0.08273781789830739\n",
      "loss_difference_between_true_label_and_probability : 0.07262623133162732\n",
      "loss_difference_between_true_label_and_probability : 0.08224150993788418\n",
      "loss_difference_between_true_label_and_probability : 0.06797589497466229\n",
      "loss_difference_between_true_label_and_probability : 0.07730289945610405\n",
      "loss_difference_between_true_label_and_probability : 0.0689045409860563\n",
      "loss_difference_between_true_label_and_probability : 0.06654997816239959\n",
      "loss_difference_between_true_label_and_probability : 0.06965721525188255\n",
      "loss_difference_between_true_label_and_probability : 0.061648489075725864\n",
      "loss_difference_between_true_label_and_probability : 0.0627584711265703\n",
      "loss_difference_between_true_label_and_probability : 0.06378156279263739\n",
      "loss_difference_between_true_label_and_probability : 0.05857359868786011\n"
     ]
    },
    {
     "data": {
      "image/png": "[encoded data removed]",
      "text/plain": [
       "<Figure size 576x288 with 1 Axes>"
      ]
     },
     "metadata": {
      "needs_background": "light"
     },
     "output_type": "display_data"
    },
    {
     "name": "stdout",
     "output_type": "stream",
     "text": [
      "----------------------------- the execution ends here -----------------------------------------\n"
     ]
    }
   ],
   "source": [
    "#n_clusters =20\n",
    "train_loss = []\n",
    "for n_clusters in np.arange(1,31):\n",
    "    average_loss_with_different_k_values = []\n",
    "\n",
    "    estimator,label_pred,centroids = run_kmeans(n_clusters)\n",
    "\n",
    "    clusters = fill_the_clusters(label_pred)\n",
    "\n",
    "    # print(len(clusters))\n",
    "\n",
    "    loss_difference_between_true_label_and_probability = calculate_loss(clusters)\n",
    "\n",
    "    # print('k is :                                               %s' % n_clusters)\n",
    "    l = np.average(loss_difference_between_true_label_and_probability)\n",
    "    # print(n_clusters, np.average(loss_difference_between_true_label_and_probability))\n",
    "\n",
    "    print('loss_difference_between_true_label_and_probability : %s'% np.average(loss_difference_between_true_label_and_probability))\n",
    "    average_loss_with_different_k_values.append((n_clusters,l))\n",
    "    train_loss.append(np.average(loss_difference_between_true_label_and_probability))\n",
    "\n",
    "\n",
    "xs = np.arange(1,31)\n",
    "ys = train_loss\n",
    "fig, ax = plt.subplots(figsize=(8, 4))\n",
    "ys = np.reshape(ys,(30,-1))\n",
    "ax.plot(xs, ys)\n",
    "ax.set_xlabel('the value of k')\n",
    "ax.set_ylabel('the loss of recommender system, difference between recommendation and reality')\n",
    "plt.show()\n",
    "\n",
    "print('----------------------------- the execution ends here -----------------------------------------')"
   ]
  },
  {
   "cell_type": "code",
   "execution_count": 32,
   "metadata": {},
   "outputs": [
    {
     "name": "stdout",
     "output_type": "stream",
     "text": [
      "loss_difference_between_true_label_and_probability : 0.056154318744004235\n",
      "loss_difference_between_true_label_and_probability : 0.05403612002139124\n",
      "loss_difference_between_true_label_and_probability : 0.05350088362531631\n",
      "loss_difference_between_true_label_and_probability : 0.0533303374360041\n",
      "loss_difference_between_true_label_and_probability : 0.05781924616948503\n",
      "loss_difference_between_true_label_and_probability : 0.057205211081765725\n",
      "loss_difference_between_true_label_and_probability : 0.057492141601001835\n",
      "loss_difference_between_true_label_and_probability : 0.06646416839952032\n",
      "loss_difference_between_true_label_and_probability : 0.05808641605457194\n",
      "loss_difference_between_true_label_and_probability : 0.05930555935575429\n",
      "loss_difference_between_true_label_and_probability : 0.07043696285478619\n",
      "loss_difference_between_true_label_and_probability : 0.0714083249756779\n",
      "loss_difference_between_true_label_and_probability : 0.06259263263733886\n",
      "loss_difference_between_true_label_and_probability : 0.06780703734691235\n",
      "loss_difference_between_true_label_and_probability : 0.06326872928037026\n",
      "loss_difference_between_true_label_and_probability : 0.058796390621667284\n",
      "loss_difference_between_true_label_and_probability : 0.057470349792709666\n",
      "loss_difference_between_true_label_and_probability : 0.06707999129845252\n",
      "loss_difference_between_true_label_and_probability : 0.06718349725157133\n",
      "loss_difference_between_true_label_and_probability : 0.05625839245630467\n",
      "loss_difference_between_true_label_and_probability : 0.05488343653358\n",
      "loss_difference_between_true_label_and_probability : 0.054979544025624445\n",
      "loss_difference_between_true_label_and_probability : 0.054945674665769044\n",
      "loss_difference_between_true_label_and_probability : 0.05232748125447646\n",
      "loss_difference_between_true_label_and_probability : 0.0515456466497886\n",
      "loss_difference_between_true_label_and_probability : 0.05298907935212262\n",
      "loss_difference_between_true_label_and_probability : 0.04864687492295301\n",
      "loss_difference_between_true_label_and_probability : 0.054372388426018416\n",
      "loss_difference_between_true_label_and_probability : 0.04716243542523261\n",
      "loss_difference_between_true_label_and_probability : 0.05165371675149204\n"
     ]
    },
    {
     "data": {
      "image/png": "[encoded data removed]",
      "text/plain": [
       "<Figure size 576x288 with 1 Axes>"
      ]
     },
     "metadata": {
      "needs_background": "light"
     },
     "output_type": "display_data"
    },
    {
     "name": "stdout",
     "output_type": "stream",
     "text": [
      "----------------------------- the execution ends here -----------------------------------------\n"
     ]
    }
   ],
   "source": [
    "#n_clusters =20\n",
    "train_loss = []\n",
    "for n_clusters in np.arange(1,31):\n",
    "    average_loss_with_different_k_values = []\n",
    "\n",
    "    estimator,label_pred,centroids = run_kmeans(n_clusters)\n",
    "\n",
    "    clusters = fill_the_clusters(label_pred)\n",
    "\n",
    "    # print(len(clusters))\n",
    "\n",
    "    loss_difference_between_true_label_and_probability = calculate_loss2(clusters)\n",
    "\n",
    "    # print('k is :                                               %s' % n_clusters)\n",
    "    l = np.average(loss_difference_between_true_label_and_probability)\n",
    "    # print(n_clusters, np.average(loss_difference_between_true_label_and_probability))\n",
    "\n",
    "    print('loss_difference_between_true_label_and_probability : %s'% np.average(loss_difference_between_true_label_and_probability))\n",
    "    average_loss_with_different_k_values.append((n_clusters,l))\n",
    "    train_loss.append(np.average(loss_difference_between_true_label_and_probability))\n",
    "\n",
    "\n",
    "xs = np.arange(1,31)\n",
    "ys = train_loss\n",
    "fig, ax = plt.subplots(figsize=(8, 4))\n",
    "ys = np.reshape(ys,(30,-1))\n",
    "ax.plot(xs, ys)\n",
    "ax.set_xlabel('the value of k')\n",
    "ax.set_ylabel('the loss of recommender system, difference between recommendation and reality')\n",
    "plt.show()\n",
    "\n",
    "print('----------------------------- the execution ends here -----------------------------------------')"
   ]
  },
  {
   "cell_type": "markdown",
   "metadata": {},
   "source": [
    "# # training epoch is 4000"
   ]
  },
  {
   "cell_type": "code",
   "execution_count": 33,
   "metadata": {},
   "outputs": [
    {
     "name": "stdout",
     "output_type": "stream",
     "text": [
      "\n"
     ]
    },
    {
     "data": {
      "image/png": "[encoded data removed]",
      "text/plain": [
       "<Figure size 432x288 with 1 Axes>"
      ]
     },
     "metadata": {
      "needs_background": "light"
     },
     "output_type": "display_data"
    },
    {
     "name": "stdout",
     "output_type": "stream",
     "text": [
      "autoencoder finished\n"
     ]
    }
   ],
   "source": [
    "a = autoencoder(num_epochs=4000, denoising=False, masking=0.5, display_step=200)\n",
    "\n",
    "compressed_training_data = a.compressed_train\n",
    "\n",
    "original_training_data = a.train\n",
    "\n",
    "compressed_testing_data = a.compressed_test\n",
    "original_testing_data = a.test"
   ]
  },
  {
   "cell_type": "code",
   "execution_count": 34,
   "metadata": {
    "scrolled": true
   },
   "outputs": [
    {
     "name": "stdout",
     "output_type": "stream",
     "text": [
      "loss_difference_between_true_label_and_probability : 0.10609548012793654\n",
      "loss_difference_between_true_label_and_probability : 0.09438254860682231\n",
      "loss_difference_between_true_label_and_probability : 0.09305249086776267\n",
      "loss_difference_between_true_label_and_probability : 0.09351930516325073\n",
      "loss_difference_between_true_label_and_probability : 0.09030860254397341\n",
      "loss_difference_between_true_label_and_probability : 0.08967470321136688\n",
      "loss_difference_between_true_label_and_probability : 0.09024357637466728\n",
      "loss_difference_between_true_label_and_probability : 0.08928245263471683\n",
      "loss_difference_between_true_label_and_probability : 0.08727335651116208\n",
      "loss_difference_between_true_label_and_probability : 0.08677333112383981\n",
      "loss_difference_between_true_label_and_probability : 0.08468236938679954\n",
      "loss_difference_between_true_label_and_probability : 0.07580608743198447\n",
      "loss_difference_between_true_label_and_probability : 0.07272721917009316\n",
      "loss_difference_between_true_label_and_probability : 0.07633152362957202\n",
      "loss_difference_between_true_label_and_probability : 0.07119907856309164\n",
      "loss_difference_between_true_label_and_probability : 0.0728446204073378\n",
      "loss_difference_between_true_label_and_probability : 0.0719956869794509\n",
      "loss_difference_between_true_label_and_probability : 0.07076894399712484\n",
      "loss_difference_between_true_label_and_probability : 0.07026465508873037\n",
      "loss_difference_between_true_label_and_probability : 0.07342504688503836\n",
      "loss_difference_between_true_label_and_probability : 0.06778400444231757\n",
      "loss_difference_between_true_label_and_probability : 0.06750332081132979\n",
      "loss_difference_between_true_label_and_probability : 0.06418002549007928\n",
      "loss_difference_between_true_label_and_probability : 0.06421187719715532\n",
      "loss_difference_between_true_label_and_probability : 0.0641993904991697\n",
      "loss_difference_between_true_label_and_probability : 0.0631161125195956\n",
      "loss_difference_between_true_label_and_probability : 0.0635258366673261\n",
      "loss_difference_between_true_label_and_probability : 0.06589096344365593\n",
      "loss_difference_between_true_label_and_probability : 0.06744495881889544\n",
      "loss_difference_between_true_label_and_probability : 0.06509061714130351\n"
     ]
    },
    {
     "data": {
      "image/png": "[encoded data removed]",
      "text/plain": [
       "<Figure size 576x288 with 1 Axes>"
      ]
     },
     "metadata": {
      "needs_background": "light"
     },
     "output_type": "display_data"
    },
    {
     "name": "stdout",
     "output_type": "stream",
     "text": [
      "----------------------------- the execution ends here -----------------------------------------\n"
     ]
    }
   ],
   "source": [
    "#n_clusters =20\n",
    "train_loss = []\n",
    "for n_clusters in np.arange(1,31):\n",
    "    average_loss_with_different_k_values = []\n",
    "\n",
    "    estimator,label_pred,centroids = run_kmeans(n_clusters)\n",
    "\n",
    "    clusters = fill_the_clusters(label_pred)\n",
    "\n",
    "    # print(len(clusters))\n",
    "\n",
    "    loss_difference_between_true_label_and_probability = calculate_loss(clusters)\n",
    "\n",
    "    # print('k is :                                               %s' % n_clusters)\n",
    "    l = np.average(loss_difference_between_true_label_and_probability)\n",
    "    # print(n_clusters, np.average(loss_difference_between_true_label_and_probability))\n",
    "\n",
    "    print('loss_difference_between_true_label_and_probability : %s'% np.average(loss_difference_between_true_label_and_probability))\n",
    "    average_loss_with_different_k_values.append((n_clusters,l))\n",
    "    train_loss.append(np.average(loss_difference_between_true_label_and_probability))\n",
    "\n",
    "\n",
    "xs = np.arange(1,31)\n",
    "ys = train_loss\n",
    "fig, ax = plt.subplots(figsize=(8, 4))\n",
    "ys = np.reshape(ys,(30,-1))\n",
    "ax.plot(xs, ys)\n",
    "ax.set_xlabel('the value of k')\n",
    "ax.set_ylabel('the loss of recommender system, difference between recommendation and reality')\n",
    "plt.show()\n",
    "\n",
    "print('----------------------------- the execution ends here -----------------------------------------')"
   ]
  },
  {
   "cell_type": "code",
   "execution_count": 35,
   "metadata": {},
   "outputs": [
    {
     "name": "stdout",
     "output_type": "stream",
     "text": [
      "loss_difference_between_true_label_and_probability : 0.056154318744004235\n",
      "loss_difference_between_true_label_and_probability : 0.056770565242603675\n",
      "loss_difference_between_true_label_and_probability : 0.05762852992903816\n",
      "loss_difference_between_true_label_and_probability : 0.059346493200330974\n",
      "loss_difference_between_true_label_and_probability : 0.058851672110253675\n",
      "loss_difference_between_true_label_and_probability : 0.06107192863391578\n",
      "loss_difference_between_true_label_and_probability : 0.06107192863391578\n",
      "loss_difference_between_true_label_and_probability : 0.06086041334126817\n",
      "loss_difference_between_true_label_and_probability : 0.06022994236447525\n",
      "loss_difference_between_true_label_and_probability : 0.055989574275128524\n",
      "loss_difference_between_true_label_and_probability : 0.05767425451694991\n",
      "loss_difference_between_true_label_and_probability : 0.04846073608311174\n",
      "loss_difference_between_true_label_and_probability : 0.05002572141950041\n",
      "loss_difference_between_true_label_and_probability : 0.04479130806181891\n",
      "loss_difference_between_true_label_and_probability : 0.0453278580650988\n",
      "loss_difference_between_true_label_and_probability : 0.045993997096888804\n",
      "loss_difference_between_true_label_and_probability : 0.044916220130558314\n",
      "loss_difference_between_true_label_and_probability : 0.04520259522357415\n",
      "loss_difference_between_true_label_and_probability : 0.04526223358592567\n",
      "loss_difference_between_true_label_and_probability : 0.04387978654711449\n",
      "loss_difference_between_true_label_and_probability : 0.04167619898363301\n",
      "loss_difference_between_true_label_and_probability : 0.045977556033181856\n",
      "loss_difference_between_true_label_and_probability : 0.044740671558425066\n",
      "loss_difference_between_true_label_and_probability : 0.04409265880628869\n",
      "loss_difference_between_true_label_and_probability : 0.04113095811814774\n",
      "loss_difference_between_true_label_and_probability : 0.045295597299680516\n",
      "loss_difference_between_true_label_and_probability : 0.04227726279386418\n",
      "loss_difference_between_true_label_and_probability : 0.04531517929285043\n",
      "loss_difference_between_true_label_and_probability : 0.045759208519446426\n",
      "loss_difference_between_true_label_and_probability : 0.04794123589829449\n"
     ]
    },
    {
     "data": {
      "image/png": "[encoded data removed]",
      "text/plain": [
       "<Figure size 576x288 with 1 Axes>"
      ]
     },
     "metadata": {
      "needs_background": "light"
     },
     "output_type": "display_data"
    },
    {
     "name": "stdout",
     "output_type": "stream",
     "text": [
      "----------------------------- the execution ends here -----------------------------------------\n"
     ]
    }
   ],
   "source": [
    "#n_clusters =20\n",
    "train_loss = []\n",
    "for n_clusters in np.arange(1,31):\n",
    "    average_loss_with_different_k_values = []\n",
    "\n",
    "    estimator,label_pred,centroids = run_kmeans(n_clusters)\n",
    "\n",
    "    clusters = fill_the_clusters(label_pred)\n",
    "\n",
    "    # print(len(clusters))\n",
    "\n",
    "    loss_difference_between_true_label_and_probability = calculate_loss2(clusters)\n",
    "\n",
    "    # print('k is :                                               %s' % n_clusters)\n",
    "    l = np.average(loss_difference_between_true_label_and_probability)\n",
    "    # print(n_clusters, np.average(loss_difference_between_true_label_and_probability))\n",
    "\n",
    "    print('loss_difference_between_true_label_and_probability : %s'% np.average(loss_difference_between_true_label_and_probability))\n",
    "    average_loss_with_different_k_values.append((n_clusters,l))\n",
    "    train_loss.append(np.average(loss_difference_between_true_label_and_probability))\n",
    "\n",
    "\n",
    "xs = np.arange(1,31)\n",
    "ys = train_loss\n",
    "fig, ax = plt.subplots(figsize=(8, 4))\n",
    "ys = np.reshape(ys,(30,-1))\n",
    "ax.plot(xs, ys)\n",
    "ax.set_xlabel('the value of k')\n",
    "ax.set_ylabel('the loss of recommender system, difference between recommendation and reality')\n",
    "plt.show()\n",
    "\n",
    "print('----------------------------- the execution ends here -----------------------------------------')"
   ]
  },
  {
   "cell_type": "code",
   "execution_count": null,
   "metadata": {},
   "outputs": [],
   "source": [
    "# # training epoch is 5000"
   ]
  },
  {
   "cell_type": "code",
   "execution_count": 36,
   "metadata": {},
   "outputs": [
    {
     "name": "stdout",
     "output_type": "stream",
     "text": [
      "\n"
     ]
    },
    {
     "data": {
      "image/png": "[encoded data removed]",
      "text/plain": [
       "<Figure size 432x288 with 1 Axes>"
      ]
     },
     "metadata": {
      "needs_background": "light"
     },
     "output_type": "display_data"
    },
    {
     "name": "stdout",
     "output_type": "stream",
     "text": [
      "autoencoder finished\n"
     ]
    }
   ],
   "source": [
    "a = autoencoder(num_epochs=5000, denoising=False, masking=0.5, display_step=200)\n",
    "\n",
    "compressed_training_data = a.compressed_train\n",
    "\n",
    "original_training_data = a.train\n",
    "\n",
    "compressed_testing_data = a.compressed_test\n",
    "original_testing_data = a.test"
   ]
  },
  {
   "cell_type": "code",
   "execution_count": 37,
   "metadata": {},
   "outputs": [
    {
     "name": "stdout",
     "output_type": "stream",
     "text": [
      "loss_difference_between_true_label_and_probability : 0.10609548012793654\n",
      "loss_difference_between_true_label_and_probability : 0.10446094408633287\n",
      "loss_difference_between_true_label_and_probability : 0.0956640243979865\n",
      "loss_difference_between_true_label_and_probability : 0.09306235126689302\n",
      "loss_difference_between_true_label_and_probability : 0.08952619910509285\n",
      "loss_difference_between_true_label_and_probability : 0.08962042500221415\n",
      "loss_difference_between_true_label_and_probability : 0.08705621394005177\n",
      "loss_difference_between_true_label_and_probability : 0.08496465139769799\n",
      "loss_difference_between_true_label_and_probability : 0.08425834389449204\n",
      "loss_difference_between_true_label_and_probability : 0.08074258995889719\n",
      "loss_difference_between_true_label_and_probability : 0.08344497419185568\n",
      "loss_difference_between_true_label_and_probability : 0.08388927522716666\n",
      "loss_difference_between_true_label_and_probability : 0.07991929060407596\n",
      "loss_difference_between_true_label_and_probability : 0.08093942383162055\n",
      "loss_difference_between_true_label_and_probability : 0.08102103584253945\n",
      "loss_difference_between_true_label_and_probability : 0.0779369032157288\n",
      "loss_difference_between_true_label_and_probability : 0.07984692619581989\n",
      "loss_difference_between_true_label_and_probability : 0.07594866237260069\n",
      "loss_difference_between_true_label_and_probability : 0.07845624632747\n",
      "loss_difference_between_true_label_and_probability : 0.0783449679338708\n",
      "loss_difference_between_true_label_and_probability : 0.07421993153854464\n",
      "loss_difference_between_true_label_and_probability : 0.07772089305331648\n",
      "loss_difference_between_true_label_and_probability : 0.07235363763062509\n",
      "loss_difference_between_true_label_and_probability : 0.07494498110781356\n",
      "loss_difference_between_true_label_and_probability : 0.07540369351952152\n",
      "loss_difference_between_true_label_and_probability : 0.07482496275566082\n",
      "loss_difference_between_true_label_and_probability : 0.0756984690954302\n",
      "loss_difference_between_true_label_and_probability : 0.07468653535094136\n",
      "loss_difference_between_true_label_and_probability : 0.07434487542555683\n"
     ]
    },
    {
     "name": "stderr",
     "output_type": "stream",
     "text": [
      "/usr/local/lib/python3.7/site-packages/numpy/lib/function_base.py:392: RuntimeWarning: Mean of empty slice.\n",
      "  avg = a.mean(axis)\n",
      "/usr/local/lib/python3.7/site-packages/numpy/core/_methods.py:85: RuntimeWarning: invalid value encountered in double_scalars\n",
      "  ret = ret.dtype.type(ret / rcount)\n",
      "/usr/local/lib/python3.7/site-packages/numpy/lib/function_base.py:392: RuntimeWarning: Mean of empty slice.\n",
      "  avg = a.mean(axis)\n",
      "/usr/local/lib/python3.7/site-packages/numpy/core/_methods.py:85: RuntimeWarning: invalid value encountered in double_scalars\n",
      "  ret = ret.dtype.type(ret / rcount)\n"
     ]
    },
    {
     "name": "stdout",
     "output_type": "stream",
     "text": [
      "loss_difference_between_true_label_and_probability : nan\n"
     ]
    },
    {
     "data": {
      "image/png": "[encoded data removed]",
      "text/plain": [
       "<Figure size 576x288 with 1 Axes>"
      ]
     },
     "metadata": {
      "needs_background": "light"
     },
     "output_type": "display_data"
    },
    {
     "name": "stdout",
     "output_type": "stream",
     "text": [
      "----------------------------- the execution ends here -----------------------------------------\n"
     ]
    }
   ],
   "source": [
    "#n_clusters =20\n",
    "train_loss = []\n",
    "for n_clusters in np.arange(1,31):\n",
    "    average_loss_with_different_k_values = []\n",
    "\n",
    "    estimator,label_pred,centroids = run_kmeans(n_clusters)\n",
    "\n",
    "    clusters = fill_the_clusters(label_pred)\n",
    "\n",
    "    # print(len(clusters))\n",
    "\n",
    "    loss_difference_between_true_label_and_probability = calculate_loss(clusters)\n",
    "\n",
    "    # print('k is :                                               %s' % n_clusters)\n",
    "    l = np.average(loss_difference_between_true_label_and_probability)\n",
    "    # print(n_clusters, np.average(loss_difference_between_true_label_and_probability))\n",
    "\n",
    "    print('loss_difference_between_true_label_and_probability : %s'% np.average(loss_difference_between_true_label_and_probability))\n",
    "    average_loss_with_different_k_values.append((n_clusters,l))\n",
    "    train_loss.append(np.average(loss_difference_between_true_label_and_probability))\n",
    "\n",
    "\n",
    "xs = np.arange(1,31)\n",
    "ys = train_loss\n",
    "fig, ax = plt.subplots(figsize=(8, 4))\n",
    "ys = np.reshape(ys,(30,-1))\n",
    "ax.plot(xs, ys)\n",
    "ax.set_xlabel('the value of k')\n",
    "ax.set_ylabel('the loss of recommender system, difference between recommendation and reality')\n",
    "plt.show()\n",
    "\n",
    "print('----------------------------- the execution ends here -----------------------------------------')"
   ]
  },
  {
   "cell_type": "code",
   "execution_count": 38,
   "metadata": {},
   "outputs": [
    {
     "name": "stdout",
     "output_type": "stream",
     "text": [
      "loss_difference_between_true_label_and_probability : 0.056154318744004235\n",
      "loss_difference_between_true_label_and_probability : 0.056154318744004235\n",
      "loss_difference_between_true_label_and_probability : 0.05556128686854093\n",
      "loss_difference_between_true_label_and_probability : 0.05461525982911136\n",
      "loss_difference_between_true_label_and_probability : 0.05446700186024554\n",
      "loss_difference_between_true_label_and_probability : 0.05446700186024554\n",
      "loss_difference_between_true_label_and_probability : 0.05417699493749964\n",
      "loss_difference_between_true_label_and_probability : 0.052673235539003396\n",
      "loss_difference_between_true_label_and_probability : 0.052791056509672564\n",
      "loss_difference_between_true_label_and_probability : 0.05457080919787693\n",
      "loss_difference_between_true_label_and_probability : 0.05169861406716119\n",
      "loss_difference_between_true_label_and_probability : 0.05436119118578823\n",
      "loss_difference_between_true_label_and_probability : 0.05401773958179649\n",
      "loss_difference_between_true_label_and_probability : 0.05497355025816249\n",
      "loss_difference_between_true_label_and_probability : 0.05484362321410747\n",
      "loss_difference_between_true_label_and_probability : 0.05173354087001871\n"
     ]
    },
    {
     "name": "stderr",
     "output_type": "stream",
     "text": [
      "/usr/local/lib/python3.7/site-packages/numpy/lib/function_base.py:392: RuntimeWarning: Mean of empty slice.\n",
      "  avg = a.mean(axis)\n",
      "/usr/local/lib/python3.7/site-packages/numpy/core/_methods.py:85: RuntimeWarning: invalid value encountered in double_scalars\n",
      "  ret = ret.dtype.type(ret / rcount)\n"
     ]
    },
    {
     "name": "stdout",
     "output_type": "stream",
     "text": [
      "loss_difference_between_true_label_and_probability : nan\n",
      "loss_difference_between_true_label_and_probability : 0.05381310755218305\n",
      "loss_difference_between_true_label_and_probability : 0.05209880272170285\n",
      "loss_difference_between_true_label_and_probability : 0.052018033408742614\n",
      "loss_difference_between_true_label_and_probability : 0.05087511828391926\n",
      "loss_difference_between_true_label_and_probability : 0.051434174434717275\n",
      "loss_difference_between_true_label_and_probability : 0.05052462052410821\n",
      "loss_difference_between_true_label_and_probability : 0.05290053605231936\n",
      "loss_difference_between_true_label_and_probability : 0.05025552588459714\n",
      "loss_difference_between_true_label_and_probability : 0.0481615140235052\n",
      "loss_difference_between_true_label_and_probability : 0.05296225374341159\n",
      "loss_difference_between_true_label_and_probability : 0.05220802113384997\n",
      "loss_difference_between_true_label_and_probability : 0.050141912360805584\n",
      "loss_difference_between_true_label_and_probability : 0.051401021287064225\n"
     ]
    },
    {
     "data": {
      "image/png": "[encoded data removed]",
      "text/plain": [
       "<Figure size 576x288 with 1 Axes>"
      ]
     },
     "metadata": {
      "needs_background": "light"
     },
     "output_type": "display_data"
    },
    {
     "name": "stdout",
     "output_type": "stream",
     "text": [
      "----------------------------- the execution ends here -----------------------------------------\n"
     ]
    }
   ],
   "source": [
    "#n_clusters =20\n",
    "train_loss = []\n",
    "for n_clusters in np.arange(1,31):\n",
    "    average_loss_with_different_k_values = []\n",
    "\n",
    "    estimator,label_pred,centroids = run_kmeans(n_clusters)\n",
    "\n",
    "    clusters = fill_the_clusters(label_pred)\n",
    "\n",
    "    # print(len(clusters))\n",
    "\n",
    "    loss_difference_between_true_label_and_probability = calculate_loss2(clusters)\n",
    "\n",
    "    # print('k is :                                               %s' % n_clusters)\n",
    "    l = np.average(loss_difference_between_true_label_and_probability)\n",
    "    # print(n_clusters, np.average(loss_difference_between_true_label_and_probability))\n",
    "\n",
    "    print('loss_difference_between_true_label_and_probability : %s'% np.average(loss_difference_between_true_label_and_probability))\n",
    "    average_loss_with_different_k_values.append((n_clusters,l))\n",
    "    train_loss.append(np.average(loss_difference_between_true_label_and_probability))\n",
    "\n",
    "\n",
    "xs = np.arange(1,31)\n",
    "ys = train_loss\n",
    "fig, ax = plt.subplots(figsize=(8, 4))\n",
    "ys = np.reshape(ys,(30,-1))\n",
    "ax.plot(xs, ys)\n",
    "ax.set_xlabel('the value of k')\n",
    "ax.set_ylabel('the loss of recommender system, difference between recommendation and reality')\n",
    "plt.show()\n",
    "\n",
    "print('----------------------------- the execution ends here -----------------------------------------')"
   ]
  },
  {
   "cell_type": "code",
   "execution_count": null,
   "metadata": {},
   "outputs": [],
   "source": [
    "# # training epoch is 6000"
   ]
  },
  {
   "cell_type": "code",
   "execution_count": 42,
   "metadata": {},
   "outputs": [
    {
     "name": "stdout",
     "output_type": "stream",
     "text": [
      "\n"
     ]
    },
    {
     "data": {
      "image/png": "[encoded data removed]",
      "text/plain": [
       "<Figure size 432x288 with 1 Axes>"
      ]
     },
     "metadata": {
      "needs_background": "light"
     },
     "output_type": "display_data"
    },
    {
     "name": "stdout",
     "output_type": "stream",
     "text": [
      "autoencoder finished\n"
     ]
    }
   ],
   "source": [
    "a = autoencoder(num_epochs=6000, denoising=False, masking=0.5, display_step=200)\n",
    "\n",
    "compressed_training_data = a.compressed_train\n",
    "\n",
    "original_training_data = a.train\n",
    "\n",
    "compressed_testing_data = a.compressed_test\n",
    "original_testing_data = a.test"
   ]
  },
  {
   "cell_type": "code",
   "execution_count": 43,
   "metadata": {},
   "outputs": [
    {
     "name": "stdout",
     "output_type": "stream",
     "text": [
      "loss_difference_between_true_label_and_probability : 0.10609548012793654\n",
      "loss_difference_between_true_label_and_probability : 0.08987201056306317\n",
      "loss_difference_between_true_label_and_probability : 0.08785633307146185\n",
      "loss_difference_between_true_label_and_probability : 0.0860961247453438\n",
      "loss_difference_between_true_label_and_probability : 0.08315121222714368\n",
      "loss_difference_between_true_label_and_probability : 0.08308226747123706\n"
     ]
    },
    {
     "name": "stderr",
     "output_type": "stream",
     "text": [
      "/usr/local/lib/python3.7/site-packages/numpy/lib/function_base.py:392: RuntimeWarning: Mean of empty slice.\n",
      "  avg = a.mean(axis)\n",
      "/usr/local/lib/python3.7/site-packages/numpy/core/_methods.py:85: RuntimeWarning: invalid value encountered in double_scalars\n",
      "  ret = ret.dtype.type(ret / rcount)\n"
     ]
    },
    {
     "name": "stdout",
     "output_type": "stream",
     "text": [
      "loss_difference_between_true_label_and_probability : nan\n"
     ]
    },
    {
     "name": "stderr",
     "output_type": "stream",
     "text": [
      "/usr/local/lib/python3.7/site-packages/numpy/lib/function_base.py:392: RuntimeWarning: Mean of empty slice.\n",
      "  avg = a.mean(axis)\n",
      "/usr/local/lib/python3.7/site-packages/numpy/core/_methods.py:85: RuntimeWarning: invalid value encountered in double_scalars\n",
      "  ret = ret.dtype.type(ret / rcount)\n"
     ]
    },
    {
     "name": "stdout",
     "output_type": "stream",
     "text": [
      "loss_difference_between_true_label_and_probability : nan\n"
     ]
    },
    {
     "name": "stderr",
     "output_type": "stream",
     "text": [
      "/usr/local/lib/python3.7/site-packages/numpy/lib/function_base.py:392: RuntimeWarning: Mean of empty slice.\n",
      "  avg = a.mean(axis)\n",
      "/usr/local/lib/python3.7/site-packages/numpy/core/_methods.py:85: RuntimeWarning: invalid value encountered in double_scalars\n",
      "  ret = ret.dtype.type(ret / rcount)\n"
     ]
    },
    {
     "name": "stdout",
     "output_type": "stream",
     "text": [
      "loss_difference_between_true_label_and_probability : nan\n"
     ]
    },
    {
     "name": "stderr",
     "output_type": "stream",
     "text": [
      "/usr/local/lib/python3.7/site-packages/numpy/lib/function_base.py:392: RuntimeWarning: Mean of empty slice.\n",
      "  avg = a.mean(axis)\n",
      "/usr/local/lib/python3.7/site-packages/numpy/core/_methods.py:85: RuntimeWarning: invalid value encountered in double_scalars\n",
      "  ret = ret.dtype.type(ret / rcount)\n"
     ]
    },
    {
     "name": "stdout",
     "output_type": "stream",
     "text": [
      "loss_difference_between_true_label_and_probability : nan\n"
     ]
    },
    {
     "name": "stderr",
     "output_type": "stream",
     "text": [
      "/usr/local/lib/python3.7/site-packages/numpy/lib/function_base.py:392: RuntimeWarning: Mean of empty slice.\n",
      "  avg = a.mean(axis)\n",
      "/usr/local/lib/python3.7/site-packages/numpy/core/_methods.py:85: RuntimeWarning: invalid value encountered in double_scalars\n",
      "  ret = ret.dtype.type(ret / rcount)\n"
     ]
    },
    {
     "name": "stdout",
     "output_type": "stream",
     "text": [
      "loss_difference_between_true_label_and_probability : nan\n"
     ]
    },
    {
     "name": "stderr",
     "output_type": "stream",
     "text": [
      "/usr/local/lib/python3.7/site-packages/numpy/lib/function_base.py:392: RuntimeWarning: Mean of empty slice.\n",
      "  avg = a.mean(axis)\n",
      "/usr/local/lib/python3.7/site-packages/numpy/core/_methods.py:85: RuntimeWarning: invalid value encountered in double_scalars\n",
      "  ret = ret.dtype.type(ret / rcount)\n"
     ]
    },
    {
     "name": "stdout",
     "output_type": "stream",
     "text": [
      "loss_difference_between_true_label_and_probability : nan\n"
     ]
    },
    {
     "name": "stderr",
     "output_type": "stream",
     "text": [
      "/usr/local/lib/python3.7/site-packages/numpy/lib/function_base.py:392: RuntimeWarning: Mean of empty slice.\n",
      "  avg = a.mean(axis)\n",
      "/usr/local/lib/python3.7/site-packages/numpy/core/_methods.py:85: RuntimeWarning: invalid value encountered in double_scalars\n",
      "  ret = ret.dtype.type(ret / rcount)\n"
     ]
    },
    {
     "name": "stdout",
     "output_type": "stream",
     "text": [
      "loss_difference_between_true_label_and_probability : nan\n"
     ]
    },
    {
     "name": "stderr",
     "output_type": "stream",
     "text": [
      "/usr/local/lib/python3.7/site-packages/numpy/lib/function_base.py:392: RuntimeWarning: Mean of empty slice.\n",
      "  avg = a.mean(axis)\n",
      "/usr/local/lib/python3.7/site-packages/numpy/core/_methods.py:85: RuntimeWarning: invalid value encountered in double_scalars\n",
      "  ret = ret.dtype.type(ret / rcount)\n"
     ]
    },
    {
     "name": "stdout",
     "output_type": "stream",
     "text": [
      "loss_difference_between_true_label_and_probability : nan\n"
     ]
    },
    {
     "name": "stderr",
     "output_type": "stream",
     "text": [
      "/usr/local/lib/python3.7/site-packages/numpy/lib/function_base.py:392: RuntimeWarning: Mean of empty slice.\n",
      "  avg = a.mean(axis)\n",
      "/usr/local/lib/python3.7/site-packages/numpy/core/_methods.py:85: RuntimeWarning: invalid value encountered in double_scalars\n",
      "  ret = ret.dtype.type(ret / rcount)\n"
     ]
    },
    {
     "name": "stdout",
     "output_type": "stream",
     "text": [
      "loss_difference_between_true_label_and_probability : nan\n"
     ]
    },
    {
     "name": "stderr",
     "output_type": "stream",
     "text": [
      "/usr/local/lib/python3.7/site-packages/numpy/lib/function_base.py:392: RuntimeWarning: Mean of empty slice.\n",
      "  avg = a.mean(axis)\n",
      "/usr/local/lib/python3.7/site-packages/numpy/core/_methods.py:85: RuntimeWarning: invalid value encountered in double_scalars\n",
      "  ret = ret.dtype.type(ret / rcount)\n"
     ]
    },
    {
     "name": "stdout",
     "output_type": "stream",
     "text": [
      "loss_difference_between_true_label_and_probability : nan\n"
     ]
    },
    {
     "name": "stderr",
     "output_type": "stream",
     "text": [
      "/usr/local/lib/python3.7/site-packages/numpy/lib/function_base.py:392: RuntimeWarning: Mean of empty slice.\n",
      "  avg = a.mean(axis)\n",
      "/usr/local/lib/python3.7/site-packages/numpy/core/_methods.py:85: RuntimeWarning: invalid value encountered in double_scalars\n",
      "  ret = ret.dtype.type(ret / rcount)\n"
     ]
    },
    {
     "name": "stdout",
     "output_type": "stream",
     "text": [
      "loss_difference_between_true_label_and_probability : nan\n"
     ]
    },
    {
     "name": "stderr",
     "output_type": "stream",
     "text": [
      "/usr/local/lib/python3.7/site-packages/numpy/lib/function_base.py:392: RuntimeWarning: Mean of empty slice.\n",
      "  avg = a.mean(axis)\n",
      "/usr/local/lib/python3.7/site-packages/numpy/core/_methods.py:85: RuntimeWarning: invalid value encountered in double_scalars\n",
      "  ret = ret.dtype.type(ret / rcount)\n"
     ]
    },
    {
     "name": "stdout",
     "output_type": "stream",
     "text": [
      "loss_difference_between_true_label_and_probability : nan\n"
     ]
    },
    {
     "name": "stderr",
     "output_type": "stream",
     "text": [
      "/usr/local/lib/python3.7/site-packages/numpy/lib/function_base.py:392: RuntimeWarning: Mean of empty slice.\n",
      "  avg = a.mean(axis)\n",
      "/usr/local/lib/python3.7/site-packages/numpy/core/_methods.py:85: RuntimeWarning: invalid value encountered in double_scalars\n",
      "  ret = ret.dtype.type(ret / rcount)\n"
     ]
    },
    {
     "name": "stdout",
     "output_type": "stream",
     "text": [
      "loss_difference_between_true_label_and_probability : nan\n"
     ]
    },
    {
     "name": "stderr",
     "output_type": "stream",
     "text": [
      "/usr/local/lib/python3.7/site-packages/numpy/lib/function_base.py:392: RuntimeWarning: Mean of empty slice.\n",
      "  avg = a.mean(axis)\n",
      "/usr/local/lib/python3.7/site-packages/numpy/core/_methods.py:85: RuntimeWarning: invalid value encountered in double_scalars\n",
      "  ret = ret.dtype.type(ret / rcount)\n"
     ]
    },
    {
     "name": "stdout",
     "output_type": "stream",
     "text": [
      "loss_difference_between_true_label_and_probability : nan\n"
     ]
    },
    {
     "name": "stderr",
     "output_type": "stream",
     "text": [
      "/usr/local/lib/python3.7/site-packages/numpy/lib/function_base.py:392: RuntimeWarning: Mean of empty slice.\n",
      "  avg = a.mean(axis)\n",
      "/usr/local/lib/python3.7/site-packages/numpy/core/_methods.py:85: RuntimeWarning: invalid value encountered in double_scalars\n",
      "  ret = ret.dtype.type(ret / rcount)\n"
     ]
    },
    {
     "name": "stdout",
     "output_type": "stream",
     "text": [
      "loss_difference_between_true_label_and_probability : nan\n"
     ]
    },
    {
     "name": "stderr",
     "output_type": "stream",
     "text": [
      "/usr/local/lib/python3.7/site-packages/numpy/lib/function_base.py:392: RuntimeWarning: Mean of empty slice.\n",
      "  avg = a.mean(axis)\n",
      "/usr/local/lib/python3.7/site-packages/numpy/core/_methods.py:85: RuntimeWarning: invalid value encountered in double_scalars\n",
      "  ret = ret.dtype.type(ret / rcount)\n"
     ]
    },
    {
     "name": "stdout",
     "output_type": "stream",
     "text": [
      "loss_difference_between_true_label_and_probability : nan\n"
     ]
    },
    {
     "name": "stderr",
     "output_type": "stream",
     "text": [
      "/usr/local/lib/python3.7/site-packages/numpy/lib/function_base.py:392: RuntimeWarning: Mean of empty slice.\n",
      "  avg = a.mean(axis)\n",
      "/usr/local/lib/python3.7/site-packages/numpy/core/_methods.py:85: RuntimeWarning: invalid value encountered in double_scalars\n",
      "  ret = ret.dtype.type(ret / rcount)\n"
     ]
    },
    {
     "name": "stdout",
     "output_type": "stream",
     "text": [
      "loss_difference_between_true_label_and_probability : nan\n"
     ]
    },
    {
     "name": "stderr",
     "output_type": "stream",
     "text": [
      "/usr/local/lib/python3.7/site-packages/numpy/lib/function_base.py:392: RuntimeWarning: Mean of empty slice.\n",
      "  avg = a.mean(axis)\n",
      "/usr/local/lib/python3.7/site-packages/numpy/core/_methods.py:85: RuntimeWarning: invalid value encountered in double_scalars\n",
      "  ret = ret.dtype.type(ret / rcount)\n"
     ]
    },
    {
     "name": "stdout",
     "output_type": "stream",
     "text": [
      "loss_difference_between_true_label_and_probability : nan\n"
     ]
    },
    {
     "name": "stderr",
     "output_type": "stream",
     "text": [
      "/usr/local/lib/python3.7/site-packages/numpy/lib/function_base.py:392: RuntimeWarning: Mean of empty slice.\n",
      "  avg = a.mean(axis)\n",
      "/usr/local/lib/python3.7/site-packages/numpy/core/_methods.py:85: RuntimeWarning: invalid value encountered in double_scalars\n",
      "  ret = ret.dtype.type(ret / rcount)\n"
     ]
    },
    {
     "name": "stdout",
     "output_type": "stream",
     "text": [
      "loss_difference_between_true_label_and_probability : nan\n"
     ]
    },
    {
     "name": "stderr",
     "output_type": "stream",
     "text": [
      "/usr/local/lib/python3.7/site-packages/numpy/lib/function_base.py:392: RuntimeWarning: Mean of empty slice.\n",
      "  avg = a.mean(axis)\n",
      "/usr/local/lib/python3.7/site-packages/numpy/core/_methods.py:85: RuntimeWarning: invalid value encountered in double_scalars\n",
      "  ret = ret.dtype.type(ret / rcount)\n"
     ]
    },
    {
     "name": "stdout",
     "output_type": "stream",
     "text": [
      "loss_difference_between_true_label_and_probability : nan\n"
     ]
    },
    {
     "name": "stderr",
     "output_type": "stream",
     "text": [
      "/usr/local/lib/python3.7/site-packages/numpy/lib/function_base.py:392: RuntimeWarning: Mean of empty slice.\n",
      "  avg = a.mean(axis)\n",
      "/usr/local/lib/python3.7/site-packages/numpy/core/_methods.py:85: RuntimeWarning: invalid value encountered in double_scalars\n",
      "  ret = ret.dtype.type(ret / rcount)\n"
     ]
    },
    {
     "name": "stdout",
     "output_type": "stream",
     "text": [
      "loss_difference_between_true_label_and_probability : nan\n"
     ]
    },
    {
     "name": "stderr",
     "output_type": "stream",
     "text": [
      "/usr/local/lib/python3.7/site-packages/numpy/lib/function_base.py:392: RuntimeWarning: Mean of empty slice.\n",
      "  avg = a.mean(axis)\n",
      "/usr/local/lib/python3.7/site-packages/numpy/core/_methods.py:85: RuntimeWarning: invalid value encountered in double_scalars\n",
      "  ret = ret.dtype.type(ret / rcount)\n"
     ]
    },
    {
     "name": "stdout",
     "output_type": "stream",
     "text": [
      "loss_difference_between_true_label_and_probability : nan\n"
     ]
    },
    {
     "name": "stderr",
     "output_type": "stream",
     "text": [
      "/usr/local/lib/python3.7/site-packages/numpy/lib/function_base.py:392: RuntimeWarning: Mean of empty slice.\n",
      "  avg = a.mean(axis)\n",
      "/usr/local/lib/python3.7/site-packages/numpy/core/_methods.py:85: RuntimeWarning: invalid value encountered in double_scalars\n",
      "  ret = ret.dtype.type(ret / rcount)\n"
     ]
    },
    {
     "name": "stdout",
     "output_type": "stream",
     "text": [
      "loss_difference_between_true_label_and_probability : nan\n"
     ]
    },
    {
     "name": "stderr",
     "output_type": "stream",
     "text": [
      "/usr/local/lib/python3.7/site-packages/numpy/lib/function_base.py:392: RuntimeWarning: Mean of empty slice.\n",
      "  avg = a.mean(axis)\n",
      "/usr/local/lib/python3.7/site-packages/numpy/core/_methods.py:85: RuntimeWarning: invalid value encountered in double_scalars\n",
      "  ret = ret.dtype.type(ret / rcount)\n"
     ]
    },
    {
     "name": "stdout",
     "output_type": "stream",
     "text": [
      "loss_difference_between_true_label_and_probability : nan\n"
     ]
    },
    {
     "data": {
      "image/png": "[encoded data removed]",
      "text/plain": [
       "<Figure size 576x288 with 1 Axes>"
      ]
     },
     "metadata": {
      "needs_background": "light"
     },
     "output_type": "display_data"
    },
    {
     "name": "stdout",
     "output_type": "stream",
     "text": [
      "----------------------------- the execution ends here -----------------------------------------\n"
     ]
    }
   ],
   "source": [
    "#n_clusters =20\n",
    "train_loss = []\n",
    "for n_clusters in np.arange(1,31):\n",
    "    average_loss_with_different_k_values = []\n",
    "\n",
    "    estimator,label_pred,centroids = run_kmeans(n_clusters)\n",
    "\n",
    "    clusters = fill_the_clusters(label_pred)\n",
    "\n",
    "    # print(len(clusters))\n",
    "\n",
    "    loss_difference_between_true_label_and_probability = calculate_loss(clusters)\n",
    "\n",
    "    # print('k is :                                               %s' % n_clusters)\n",
    "    l = np.average(loss_difference_between_true_label_and_probability)\n",
    "    # print(n_clusters, np.average(loss_difference_between_true_label_and_probability))\n",
    "\n",
    "    print('loss_difference_between_true_label_and_probability : %s'% np.average(loss_difference_between_true_label_and_probability))\n",
    "    average_loss_with_different_k_values.append((n_clusters,l))\n",
    "    train_loss.append(np.average(loss_difference_between_true_label_and_probability))\n",
    "\n",
    "\n",
    "xs = np.arange(1,31)\n",
    "ys = train_loss\n",
    "fig, ax = plt.subplots(figsize=(8, 4))\n",
    "ys = np.reshape(ys,(30,-1))\n",
    "ax.plot(xs, ys)\n",
    "ax.set_xlabel('the value of k')\n",
    "ax.set_ylabel('the loss of recommender system, difference between recommendation and reality')\n",
    "plt.show()\n",
    "\n",
    "print('----------------------------- the execution ends here -----------------------------------------')"
   ]
  },
  {
   "cell_type": "code",
   "execution_count": 44,
   "metadata": {},
   "outputs": [
    {
     "name": "stdout",
     "output_type": "stream",
     "text": [
      "loss_difference_between_true_label_and_probability : 0.056154318744004235\n",
      "loss_difference_between_true_label_and_probability : 0.0520109816779348\n",
      "loss_difference_between_true_label_and_probability : 0.0520109816779348\n",
      "loss_difference_between_true_label_and_probability : 0.04909944752339952\n",
      "loss_difference_between_true_label_and_probability : 0.048904515749520386\n",
      "loss_difference_between_true_label_and_probability : 0.04854769148547043\n"
     ]
    },
    {
     "name": "stderr",
     "output_type": "stream",
     "text": [
      "/usr/local/lib/python3.7/site-packages/numpy/lib/function_base.py:392: RuntimeWarning: Mean of empty slice.\n",
      "  avg = a.mean(axis)\n",
      "/usr/local/lib/python3.7/site-packages/numpy/core/_methods.py:85: RuntimeWarning: invalid value encountered in double_scalars\n",
      "  ret = ret.dtype.type(ret / rcount)\n"
     ]
    },
    {
     "name": "stdout",
     "output_type": "stream",
     "text": [
      "loss_difference_between_true_label_and_probability : nan\n"
     ]
    },
    {
     "name": "stderr",
     "output_type": "stream",
     "text": [
      "/usr/local/lib/python3.7/site-packages/numpy/lib/function_base.py:392: RuntimeWarning: Mean of empty slice.\n",
      "  avg = a.mean(axis)\n",
      "/usr/local/lib/python3.7/site-packages/numpy/core/_methods.py:85: RuntimeWarning: invalid value encountered in double_scalars\n",
      "  ret = ret.dtype.type(ret / rcount)\n"
     ]
    },
    {
     "name": "stdout",
     "output_type": "stream",
     "text": [
      "loss_difference_between_true_label_and_probability : nan\n"
     ]
    },
    {
     "name": "stderr",
     "output_type": "stream",
     "text": [
      "/usr/local/lib/python3.7/site-packages/numpy/lib/function_base.py:392: RuntimeWarning: Mean of empty slice.\n",
      "  avg = a.mean(axis)\n",
      "/usr/local/lib/python3.7/site-packages/numpy/core/_methods.py:85: RuntimeWarning: invalid value encountered in double_scalars\n",
      "  ret = ret.dtype.type(ret / rcount)\n"
     ]
    },
    {
     "name": "stdout",
     "output_type": "stream",
     "text": [
      "loss_difference_between_true_label_and_probability : nan\n"
     ]
    },
    {
     "name": "stderr",
     "output_type": "stream",
     "text": [
      "/usr/local/lib/python3.7/site-packages/numpy/lib/function_base.py:392: RuntimeWarning: Mean of empty slice.\n",
      "  avg = a.mean(axis)\n",
      "/usr/local/lib/python3.7/site-packages/numpy/core/_methods.py:85: RuntimeWarning: invalid value encountered in double_scalars\n",
      "  ret = ret.dtype.type(ret / rcount)\n"
     ]
    },
    {
     "name": "stdout",
     "output_type": "stream",
     "text": [
      "loss_difference_between_true_label_and_probability : nan\n"
     ]
    },
    {
     "name": "stderr",
     "output_type": "stream",
     "text": [
      "/usr/local/lib/python3.7/site-packages/numpy/lib/function_base.py:392: RuntimeWarning: Mean of empty slice.\n",
      "  avg = a.mean(axis)\n",
      "/usr/local/lib/python3.7/site-packages/numpy/core/_methods.py:85: RuntimeWarning: invalid value encountered in double_scalars\n",
      "  ret = ret.dtype.type(ret / rcount)\n"
     ]
    },
    {
     "name": "stdout",
     "output_type": "stream",
     "text": [
      "loss_difference_between_true_label_and_probability : nan\n"
     ]
    },
    {
     "name": "stderr",
     "output_type": "stream",
     "text": [
      "/usr/local/lib/python3.7/site-packages/numpy/lib/function_base.py:392: RuntimeWarning: Mean of empty slice.\n",
      "  avg = a.mean(axis)\n",
      "/usr/local/lib/python3.7/site-packages/numpy/core/_methods.py:85: RuntimeWarning: invalid value encountered in double_scalars\n",
      "  ret = ret.dtype.type(ret / rcount)\n"
     ]
    },
    {
     "name": "stdout",
     "output_type": "stream",
     "text": [
      "loss_difference_between_true_label_and_probability : nan\n"
     ]
    },
    {
     "name": "stderr",
     "output_type": "stream",
     "text": [
      "/usr/local/lib/python3.7/site-packages/numpy/lib/function_base.py:392: RuntimeWarning: Mean of empty slice.\n",
      "  avg = a.mean(axis)\n",
      "/usr/local/lib/python3.7/site-packages/numpy/core/_methods.py:85: RuntimeWarning: invalid value encountered in double_scalars\n",
      "  ret = ret.dtype.type(ret / rcount)\n"
     ]
    },
    {
     "name": "stdout",
     "output_type": "stream",
     "text": [
      "loss_difference_between_true_label_and_probability : nan\n"
     ]
    },
    {
     "name": "stderr",
     "output_type": "stream",
     "text": [
      "/usr/local/lib/python3.7/site-packages/numpy/lib/function_base.py:392: RuntimeWarning: Mean of empty slice.\n",
      "  avg = a.mean(axis)\n",
      "/usr/local/lib/python3.7/site-packages/numpy/core/_methods.py:85: RuntimeWarning: invalid value encountered in double_scalars\n",
      "  ret = ret.dtype.type(ret / rcount)\n"
     ]
    },
    {
     "name": "stdout",
     "output_type": "stream",
     "text": [
      "loss_difference_between_true_label_and_probability : nan\n"
     ]
    },
    {
     "name": "stderr",
     "output_type": "stream",
     "text": [
      "/usr/local/lib/python3.7/site-packages/numpy/lib/function_base.py:392: RuntimeWarning: Mean of empty slice.\n",
      "  avg = a.mean(axis)\n",
      "/usr/local/lib/python3.7/site-packages/numpy/core/_methods.py:85: RuntimeWarning: invalid value encountered in double_scalars\n",
      "  ret = ret.dtype.type(ret / rcount)\n"
     ]
    },
    {
     "name": "stdout",
     "output_type": "stream",
     "text": [
      "loss_difference_between_true_label_and_probability : nan\n"
     ]
    },
    {
     "name": "stderr",
     "output_type": "stream",
     "text": [
      "/usr/local/lib/python3.7/site-packages/numpy/lib/function_base.py:392: RuntimeWarning: Mean of empty slice.\n",
      "  avg = a.mean(axis)\n",
      "/usr/local/lib/python3.7/site-packages/numpy/core/_methods.py:85: RuntimeWarning: invalid value encountered in double_scalars\n",
      "  ret = ret.dtype.type(ret / rcount)\n"
     ]
    },
    {
     "name": "stdout",
     "output_type": "stream",
     "text": [
      "loss_difference_between_true_label_and_probability : nan\n"
     ]
    },
    {
     "name": "stderr",
     "output_type": "stream",
     "text": [
      "/usr/local/lib/python3.7/site-packages/numpy/lib/function_base.py:392: RuntimeWarning: Mean of empty slice.\n",
      "  avg = a.mean(axis)\n",
      "/usr/local/lib/python3.7/site-packages/numpy/core/_methods.py:85: RuntimeWarning: invalid value encountered in double_scalars\n",
      "  ret = ret.dtype.type(ret / rcount)\n"
     ]
    },
    {
     "name": "stdout",
     "output_type": "stream",
     "text": [
      "loss_difference_between_true_label_and_probability : nan\n"
     ]
    },
    {
     "name": "stderr",
     "output_type": "stream",
     "text": [
      "/usr/local/lib/python3.7/site-packages/numpy/lib/function_base.py:392: RuntimeWarning: Mean of empty slice.\n",
      "  avg = a.mean(axis)\n",
      "/usr/local/lib/python3.7/site-packages/numpy/core/_methods.py:85: RuntimeWarning: invalid value encountered in double_scalars\n",
      "  ret = ret.dtype.type(ret / rcount)\n"
     ]
    },
    {
     "name": "stdout",
     "output_type": "stream",
     "text": [
      "loss_difference_between_true_label_and_probability : nan\n"
     ]
    },
    {
     "name": "stderr",
     "output_type": "stream",
     "text": [
      "/usr/local/lib/python3.7/site-packages/numpy/lib/function_base.py:392: RuntimeWarning: Mean of empty slice.\n",
      "  avg = a.mean(axis)\n",
      "/usr/local/lib/python3.7/site-packages/numpy/core/_methods.py:85: RuntimeWarning: invalid value encountered in double_scalars\n",
      "  ret = ret.dtype.type(ret / rcount)\n"
     ]
    },
    {
     "name": "stdout",
     "output_type": "stream",
     "text": [
      "loss_difference_between_true_label_and_probability : nan\n"
     ]
    },
    {
     "name": "stderr",
     "output_type": "stream",
     "text": [
      "/usr/local/lib/python3.7/site-packages/numpy/lib/function_base.py:392: RuntimeWarning: Mean of empty slice.\n",
      "  avg = a.mean(axis)\n",
      "/usr/local/lib/python3.7/site-packages/numpy/core/_methods.py:85: RuntimeWarning: invalid value encountered in double_scalars\n",
      "  ret = ret.dtype.type(ret / rcount)\n"
     ]
    },
    {
     "name": "stdout",
     "output_type": "stream",
     "text": [
      "loss_difference_between_true_label_and_probability : nan\n"
     ]
    },
    {
     "name": "stderr",
     "output_type": "stream",
     "text": [
      "/usr/local/lib/python3.7/site-packages/numpy/lib/function_base.py:392: RuntimeWarning: Mean of empty slice.\n",
      "  avg = a.mean(axis)\n",
      "/usr/local/lib/python3.7/site-packages/numpy/core/_methods.py:85: RuntimeWarning: invalid value encountered in double_scalars\n",
      "  ret = ret.dtype.type(ret / rcount)\n"
     ]
    },
    {
     "name": "stdout",
     "output_type": "stream",
     "text": [
      "loss_difference_between_true_label_and_probability : nan\n"
     ]
    },
    {
     "name": "stderr",
     "output_type": "stream",
     "text": [
      "/usr/local/lib/python3.7/site-packages/numpy/lib/function_base.py:392: RuntimeWarning: Mean of empty slice.\n",
      "  avg = a.mean(axis)\n",
      "/usr/local/lib/python3.7/site-packages/numpy/core/_methods.py:85: RuntimeWarning: invalid value encountered in double_scalars\n",
      "  ret = ret.dtype.type(ret / rcount)\n"
     ]
    },
    {
     "name": "stdout",
     "output_type": "stream",
     "text": [
      "loss_difference_between_true_label_and_probability : nan\n"
     ]
    },
    {
     "name": "stderr",
     "output_type": "stream",
     "text": [
      "/usr/local/lib/python3.7/site-packages/numpy/lib/function_base.py:392: RuntimeWarning: Mean of empty slice.\n",
      "  avg = a.mean(axis)\n",
      "/usr/local/lib/python3.7/site-packages/numpy/core/_methods.py:85: RuntimeWarning: invalid value encountered in double_scalars\n",
      "  ret = ret.dtype.type(ret / rcount)\n"
     ]
    },
    {
     "name": "stdout",
     "output_type": "stream",
     "text": [
      "loss_difference_between_true_label_and_probability : nan\n"
     ]
    },
    {
     "name": "stderr",
     "output_type": "stream",
     "text": [
      "/usr/local/lib/python3.7/site-packages/numpy/lib/function_base.py:392: RuntimeWarning: Mean of empty slice.\n",
      "  avg = a.mean(axis)\n",
      "/usr/local/lib/python3.7/site-packages/numpy/core/_methods.py:85: RuntimeWarning: invalid value encountered in double_scalars\n",
      "  ret = ret.dtype.type(ret / rcount)\n"
     ]
    },
    {
     "name": "stdout",
     "output_type": "stream",
     "text": [
      "loss_difference_between_true_label_and_probability : nan\n"
     ]
    },
    {
     "name": "stderr",
     "output_type": "stream",
     "text": [
      "/usr/local/lib/python3.7/site-packages/numpy/lib/function_base.py:392: RuntimeWarning: Mean of empty slice.\n",
      "  avg = a.mean(axis)\n",
      "/usr/local/lib/python3.7/site-packages/numpy/core/_methods.py:85: RuntimeWarning: invalid value encountered in double_scalars\n",
      "  ret = ret.dtype.type(ret / rcount)\n"
     ]
    },
    {
     "name": "stdout",
     "output_type": "stream",
     "text": [
      "loss_difference_between_true_label_and_probability : nan\n"
     ]
    },
    {
     "name": "stderr",
     "output_type": "stream",
     "text": [
      "/usr/local/lib/python3.7/site-packages/numpy/lib/function_base.py:392: RuntimeWarning: Mean of empty slice.\n",
      "  avg = a.mean(axis)\n",
      "/usr/local/lib/python3.7/site-packages/numpy/core/_methods.py:85: RuntimeWarning: invalid value encountered in double_scalars\n",
      "  ret = ret.dtype.type(ret / rcount)\n",
      "/usr/local/lib/python3.7/site-packages/numpy/lib/function_base.py:392: RuntimeWarning: Mean of empty slice.\n",
      "  avg = a.mean(axis)\n",
      "/usr/local/lib/python3.7/site-packages/numpy/core/_methods.py:85: RuntimeWarning: invalid value encountered in double_scalars\n",
      "  ret = ret.dtype.type(ret / rcount)\n"
     ]
    },
    {
     "name": "stdout",
     "output_type": "stream",
     "text": [
      "loss_difference_between_true_label_and_probability : nan\n"
     ]
    },
    {
     "name": "stderr",
     "output_type": "stream",
     "text": [
      "/usr/local/lib/python3.7/site-packages/numpy/lib/function_base.py:392: RuntimeWarning: Mean of empty slice.\n",
      "  avg = a.mean(axis)\n",
      "/usr/local/lib/python3.7/site-packages/numpy/core/_methods.py:85: RuntimeWarning: invalid value encountered in double_scalars\n",
      "  ret = ret.dtype.type(ret / rcount)\n"
     ]
    },
    {
     "name": "stdout",
     "output_type": "stream",
     "text": [
      "loss_difference_between_true_label_and_probability : nan\n"
     ]
    },
    {
     "name": "stderr",
     "output_type": "stream",
     "text": [
      "/usr/local/lib/python3.7/site-packages/numpy/lib/function_base.py:392: RuntimeWarning: Mean of empty slice.\n",
      "  avg = a.mean(axis)\n",
      "/usr/local/lib/python3.7/site-packages/numpy/core/_methods.py:85: RuntimeWarning: invalid value encountered in double_scalars\n",
      "  ret = ret.dtype.type(ret / rcount)\n",
      "/usr/local/lib/python3.7/site-packages/numpy/lib/function_base.py:392: RuntimeWarning: Mean of empty slice.\n",
      "  avg = a.mean(axis)\n",
      "/usr/local/lib/python3.7/site-packages/numpy/core/_methods.py:85: RuntimeWarning: invalid value encountered in double_scalars\n",
      "  ret = ret.dtype.type(ret / rcount)\n",
      "/usr/local/lib/python3.7/site-packages/numpy/lib/function_base.py:392: RuntimeWarning: Mean of empty slice.\n",
      "  avg = a.mean(axis)\n",
      "/usr/local/lib/python3.7/site-packages/numpy/core/_methods.py:85: RuntimeWarning: invalid value encountered in double_scalars\n",
      "  ret = ret.dtype.type(ret / rcount)\n"
     ]
    },
    {
     "name": "stdout",
     "output_type": "stream",
     "text": [
      "loss_difference_between_true_label_and_probability : nan\n"
     ]
    },
    {
     "name": "stderr",
     "output_type": "stream",
     "text": [
      "/usr/local/lib/python3.7/site-packages/numpy/lib/function_base.py:392: RuntimeWarning: Mean of empty slice.\n",
      "  avg = a.mean(axis)\n",
      "/usr/local/lib/python3.7/site-packages/numpy/core/_methods.py:85: RuntimeWarning: invalid value encountered in double_scalars\n",
      "  ret = ret.dtype.type(ret / rcount)\n"
     ]
    },
    {
     "name": "stdout",
     "output_type": "stream",
     "text": [
      "loss_difference_between_true_label_and_probability : nan\n"
     ]
    },
    {
     "name": "stderr",
     "output_type": "stream",
     "text": [
      "/usr/local/lib/python3.7/site-packages/numpy/lib/function_base.py:392: RuntimeWarning: Mean of empty slice.\n",
      "  avg = a.mean(axis)\n",
      "/usr/local/lib/python3.7/site-packages/numpy/core/_methods.py:85: RuntimeWarning: invalid value encountered in double_scalars\n",
      "  ret = ret.dtype.type(ret / rcount)\n"
     ]
    },
    {
     "name": "stdout",
     "output_type": "stream",
     "text": [
      "loss_difference_between_true_label_and_probability : nan\n"
     ]
    },
    {
     "data": {
      "image/png": "[encoded data removed]",
      "text/plain": [
       "<Figure size 576x288 with 1 Axes>"
      ]
     },
     "metadata": {
      "needs_background": "light"
     },
     "output_type": "display_data"
    },
    {
     "name": "stdout",
     "output_type": "stream",
     "text": [
      "----------------------------- the execution ends here -----------------------------------------\n"
     ]
    }
   ],
   "source": [
    "#n_clusters =20\n",
    "train_loss = []\n",
    "for n_clusters in np.arange(1,31):\n",
    "    average_loss_with_different_k_values = []\n",
    "\n",
    "    estimator,label_pred,centroids = run_kmeans(n_clusters)\n",
    "\n",
    "    clusters = fill_the_clusters(label_pred)\n",
    "\n",
    "    # print(len(clusters))\n",
    "\n",
    "    loss_difference_between_true_label_and_probability = calculate_loss2(clusters)\n",
    "\n",
    "    # print('k is :                                               %s' % n_clusters)\n",
    "    l = np.average(loss_difference_between_true_label_and_probability)\n",
    "    # print(n_clusters, np.average(loss_difference_between_true_label_and_probability))\n",
    "\n",
    "    print('loss_difference_between_true_label_and_probability : %s'% np.average(loss_difference_between_true_label_and_probability))\n",
    "    average_loss_with_different_k_values.append((n_clusters,l))\n",
    "    train_loss.append(np.average(loss_difference_between_true_label_and_probability))\n",
    "\n",
    "\n",
    "xs = np.arange(1,31)\n",
    "ys = train_loss\n",
    "fig, ax = plt.subplots(figsize=(8, 4))\n",
    "ys = np.reshape(ys,(30,-1))\n",
    "ax.plot(xs, ys)\n",
    "ax.set_xlabel('the value of k')\n",
    "ax.set_ylabel('the loss of recommender system, difference between recommendation and reality')\n",
    "plt.show()\n",
    "\n",
    "print('----------------------------- the execution ends here -----------------------------------------')"
   ]
  },
  {
   "cell_type": "code",
   "execution_count": null,
   "metadata": {},
   "outputs": [],
   "source": [
    "# # training epoch is 7000"
   ]
  },
  {
   "cell_type": "code",
   "execution_count": 47,
   "metadata": {},
   "outputs": [
    {
     "name": "stdout",
     "output_type": "stream",
     "text": [
      "\n"
     ]
    },
    {
     "data": {
      "image/png": "[encoded data removed]",
      "text/plain": [
       "<Figure size 432x288 with 1 Axes>"
      ]
     },
     "metadata": {
      "needs_background": "light"
     },
     "output_type": "display_data"
    },
    {
     "name": "stdout",
     "output_type": "stream",
     "text": [
      "autoencoder finished\n"
     ]
    }
   ],
   "source": [
    "a = autoencoder(num_epochs=7000, denoising=False, masking=0.5, display_step=200)\n",
    "\n",
    "compressed_training_data = a.compressed_train\n",
    "\n",
    "original_training_data = a.train\n",
    "\n",
    "compressed_testing_data = a.compressed_test\n",
    "original_testing_data = a.test"
   ]
  },
  {
   "cell_type": "code",
   "execution_count": 48,
   "metadata": {},
   "outputs": [
    {
     "name": "stdout",
     "output_type": "stream",
     "text": [
      "loss_difference_between_true_label_and_probability : 0.10609548012793654\n",
      "loss_difference_between_true_label_and_probability : 0.10407941236861425\n",
      "loss_difference_between_true_label_and_probability : 0.09882356600888531\n",
      "loss_difference_between_true_label_and_probability : 0.09699540077060334\n",
      "loss_difference_between_true_label_and_probability : 0.09779519377556745\n",
      "loss_difference_between_true_label_and_probability : 0.08938613146136523\n",
      "loss_difference_between_true_label_and_probability : 0.09291966031951002\n"
     ]
    },
    {
     "name": "stderr",
     "output_type": "stream",
     "text": [
      "/usr/local/lib/python3.7/site-packages/numpy/lib/function_base.py:392: RuntimeWarning: Mean of empty slice.\n",
      "  avg = a.mean(axis)\n",
      "/usr/local/lib/python3.7/site-packages/numpy/core/_methods.py:85: RuntimeWarning: invalid value encountered in double_scalars\n",
      "  ret = ret.dtype.type(ret / rcount)\n"
     ]
    },
    {
     "name": "stdout",
     "output_type": "stream",
     "text": [
      "loss_difference_between_true_label_and_probability : nan\n"
     ]
    },
    {
     "name": "stderr",
     "output_type": "stream",
     "text": [
      "/usr/local/lib/python3.7/site-packages/numpy/lib/function_base.py:392: RuntimeWarning: Mean of empty slice.\n",
      "  avg = a.mean(axis)\n",
      "/usr/local/lib/python3.7/site-packages/numpy/core/_methods.py:85: RuntimeWarning: invalid value encountered in double_scalars\n",
      "  ret = ret.dtype.type(ret / rcount)\n"
     ]
    },
    {
     "name": "stdout",
     "output_type": "stream",
     "text": [
      "loss_difference_between_true_label_and_probability : nan\n"
     ]
    },
    {
     "name": "stderr",
     "output_type": "stream",
     "text": [
      "/usr/local/lib/python3.7/site-packages/numpy/lib/function_base.py:392: RuntimeWarning: Mean of empty slice.\n",
      "  avg = a.mean(axis)\n",
      "/usr/local/lib/python3.7/site-packages/numpy/core/_methods.py:85: RuntimeWarning: invalid value encountered in double_scalars\n",
      "  ret = ret.dtype.type(ret / rcount)\n"
     ]
    },
    {
     "name": "stdout",
     "output_type": "stream",
     "text": [
      "loss_difference_between_true_label_and_probability : nan\n"
     ]
    },
    {
     "name": "stderr",
     "output_type": "stream",
     "text": [
      "/usr/local/lib/python3.7/site-packages/numpy/lib/function_base.py:392: RuntimeWarning: Mean of empty slice.\n",
      "  avg = a.mean(axis)\n",
      "/usr/local/lib/python3.7/site-packages/numpy/core/_methods.py:85: RuntimeWarning: invalid value encountered in double_scalars\n",
      "  ret = ret.dtype.type(ret / rcount)\n"
     ]
    },
    {
     "name": "stdout",
     "output_type": "stream",
     "text": [
      "loss_difference_between_true_label_and_probability : nan\n"
     ]
    },
    {
     "name": "stderr",
     "output_type": "stream",
     "text": [
      "/usr/local/lib/python3.7/site-packages/numpy/lib/function_base.py:392: RuntimeWarning: Mean of empty slice.\n",
      "  avg = a.mean(axis)\n",
      "/usr/local/lib/python3.7/site-packages/numpy/core/_methods.py:85: RuntimeWarning: invalid value encountered in double_scalars\n",
      "  ret = ret.dtype.type(ret / rcount)\n"
     ]
    },
    {
     "name": "stdout",
     "output_type": "stream",
     "text": [
      "loss_difference_between_true_label_and_probability : nan\n"
     ]
    },
    {
     "name": "stderr",
     "output_type": "stream",
     "text": [
      "/usr/local/lib/python3.7/site-packages/numpy/lib/function_base.py:392: RuntimeWarning: Mean of empty slice.\n",
      "  avg = a.mean(axis)\n",
      "/usr/local/lib/python3.7/site-packages/numpy/core/_methods.py:85: RuntimeWarning: invalid value encountered in double_scalars\n",
      "  ret = ret.dtype.type(ret / rcount)\n"
     ]
    },
    {
     "name": "stdout",
     "output_type": "stream",
     "text": [
      "loss_difference_between_true_label_and_probability : nan\n"
     ]
    },
    {
     "name": "stderr",
     "output_type": "stream",
     "text": [
      "/usr/local/lib/python3.7/site-packages/numpy/lib/function_base.py:392: RuntimeWarning: Mean of empty slice.\n",
      "  avg = a.mean(axis)\n",
      "/usr/local/lib/python3.7/site-packages/numpy/core/_methods.py:85: RuntimeWarning: invalid value encountered in double_scalars\n",
      "  ret = ret.dtype.type(ret / rcount)\n"
     ]
    },
    {
     "name": "stdout",
     "output_type": "stream",
     "text": [
      "loss_difference_between_true_label_and_probability : nan\n"
     ]
    },
    {
     "name": "stderr",
     "output_type": "stream",
     "text": [
      "/usr/local/lib/python3.7/site-packages/numpy/lib/function_base.py:392: RuntimeWarning: Mean of empty slice.\n",
      "  avg = a.mean(axis)\n",
      "/usr/local/lib/python3.7/site-packages/numpy/core/_methods.py:85: RuntimeWarning: invalid value encountered in double_scalars\n",
      "  ret = ret.dtype.type(ret / rcount)\n"
     ]
    },
    {
     "name": "stdout",
     "output_type": "stream",
     "text": [
      "loss_difference_between_true_label_and_probability : nan\n"
     ]
    },
    {
     "name": "stderr",
     "output_type": "stream",
     "text": [
      "/usr/local/lib/python3.7/site-packages/numpy/lib/function_base.py:392: RuntimeWarning: Mean of empty slice.\n",
      "  avg = a.mean(axis)\n",
      "/usr/local/lib/python3.7/site-packages/numpy/core/_methods.py:85: RuntimeWarning: invalid value encountered in double_scalars\n",
      "  ret = ret.dtype.type(ret / rcount)\n"
     ]
    },
    {
     "name": "stdout",
     "output_type": "stream",
     "text": [
      "loss_difference_between_true_label_and_probability : nan\n"
     ]
    },
    {
     "name": "stderr",
     "output_type": "stream",
     "text": [
      "/usr/local/lib/python3.7/site-packages/numpy/lib/function_base.py:392: RuntimeWarning: Mean of empty slice.\n",
      "  avg = a.mean(axis)\n",
      "/usr/local/lib/python3.7/site-packages/numpy/core/_methods.py:85: RuntimeWarning: invalid value encountered in double_scalars\n",
      "  ret = ret.dtype.type(ret / rcount)\n"
     ]
    },
    {
     "name": "stdout",
     "output_type": "stream",
     "text": [
      "loss_difference_between_true_label_and_probability : nan\n"
     ]
    },
    {
     "name": "stderr",
     "output_type": "stream",
     "text": [
      "/usr/local/lib/python3.7/site-packages/numpy/lib/function_base.py:392: RuntimeWarning: Mean of empty slice.\n",
      "  avg = a.mean(axis)\n",
      "/usr/local/lib/python3.7/site-packages/numpy/core/_methods.py:85: RuntimeWarning: invalid value encountered in double_scalars\n",
      "  ret = ret.dtype.type(ret / rcount)\n"
     ]
    },
    {
     "name": "stdout",
     "output_type": "stream",
     "text": [
      "loss_difference_between_true_label_and_probability : nan\n"
     ]
    },
    {
     "name": "stderr",
     "output_type": "stream",
     "text": [
      "/usr/local/lib/python3.7/site-packages/numpy/lib/function_base.py:392: RuntimeWarning: Mean of empty slice.\n",
      "  avg = a.mean(axis)\n",
      "/usr/local/lib/python3.7/site-packages/numpy/core/_methods.py:85: RuntimeWarning: invalid value encountered in double_scalars\n",
      "  ret = ret.dtype.type(ret / rcount)\n"
     ]
    },
    {
     "name": "stdout",
     "output_type": "stream",
     "text": [
      "loss_difference_between_true_label_and_probability : nan\n"
     ]
    },
    {
     "name": "stderr",
     "output_type": "stream",
     "text": [
      "/usr/local/lib/python3.7/site-packages/numpy/lib/function_base.py:392: RuntimeWarning: Mean of empty slice.\n",
      "  avg = a.mean(axis)\n",
      "/usr/local/lib/python3.7/site-packages/numpy/core/_methods.py:85: RuntimeWarning: invalid value encountered in double_scalars\n",
      "  ret = ret.dtype.type(ret / rcount)\n"
     ]
    },
    {
     "name": "stdout",
     "output_type": "stream",
     "text": [
      "loss_difference_between_true_label_and_probability : nan\n"
     ]
    },
    {
     "name": "stderr",
     "output_type": "stream",
     "text": [
      "/usr/local/lib/python3.7/site-packages/numpy/lib/function_base.py:392: RuntimeWarning: Mean of empty slice.\n",
      "  avg = a.mean(axis)\n",
      "/usr/local/lib/python3.7/site-packages/numpy/core/_methods.py:85: RuntimeWarning: invalid value encountered in double_scalars\n",
      "  ret = ret.dtype.type(ret / rcount)\n"
     ]
    },
    {
     "name": "stdout",
     "output_type": "stream",
     "text": [
      "loss_difference_between_true_label_and_probability : nan\n"
     ]
    },
    {
     "name": "stderr",
     "output_type": "stream",
     "text": [
      "/usr/local/lib/python3.7/site-packages/numpy/lib/function_base.py:392: RuntimeWarning: Mean of empty slice.\n",
      "  avg = a.mean(axis)\n",
      "/usr/local/lib/python3.7/site-packages/numpy/core/_methods.py:85: RuntimeWarning: invalid value encountered in double_scalars\n",
      "  ret = ret.dtype.type(ret / rcount)\n"
     ]
    },
    {
     "name": "stdout",
     "output_type": "stream",
     "text": [
      "loss_difference_between_true_label_and_probability : nan\n"
     ]
    },
    {
     "name": "stderr",
     "output_type": "stream",
     "text": [
      "/usr/local/lib/python3.7/site-packages/numpy/lib/function_base.py:392: RuntimeWarning: Mean of empty slice.\n",
      "  avg = a.mean(axis)\n",
      "/usr/local/lib/python3.7/site-packages/numpy/core/_methods.py:85: RuntimeWarning: invalid value encountered in double_scalars\n",
      "  ret = ret.dtype.type(ret / rcount)\n"
     ]
    },
    {
     "name": "stdout",
     "output_type": "stream",
     "text": [
      "loss_difference_between_true_label_and_probability : nan\n"
     ]
    },
    {
     "name": "stderr",
     "output_type": "stream",
     "text": [
      "/usr/local/lib/python3.7/site-packages/numpy/lib/function_base.py:392: RuntimeWarning: Mean of empty slice.\n",
      "  avg = a.mean(axis)\n",
      "/usr/local/lib/python3.7/site-packages/numpy/core/_methods.py:85: RuntimeWarning: invalid value encountered in double_scalars\n",
      "  ret = ret.dtype.type(ret / rcount)\n"
     ]
    },
    {
     "name": "stdout",
     "output_type": "stream",
     "text": [
      "loss_difference_between_true_label_and_probability : nan\n"
     ]
    },
    {
     "name": "stderr",
     "output_type": "stream",
     "text": [
      "/usr/local/lib/python3.7/site-packages/numpy/lib/function_base.py:392: RuntimeWarning: Mean of empty slice.\n",
      "  avg = a.mean(axis)\n",
      "/usr/local/lib/python3.7/site-packages/numpy/core/_methods.py:85: RuntimeWarning: invalid value encountered in double_scalars\n",
      "  ret = ret.dtype.type(ret / rcount)\n"
     ]
    },
    {
     "name": "stdout",
     "output_type": "stream",
     "text": [
      "loss_difference_between_true_label_and_probability : nan\n"
     ]
    },
    {
     "name": "stderr",
     "output_type": "stream",
     "text": [
      "/usr/local/lib/python3.7/site-packages/numpy/lib/function_base.py:392: RuntimeWarning: Mean of empty slice.\n",
      "  avg = a.mean(axis)\n",
      "/usr/local/lib/python3.7/site-packages/numpy/core/_methods.py:85: RuntimeWarning: invalid value encountered in double_scalars\n",
      "  ret = ret.dtype.type(ret / rcount)\n"
     ]
    },
    {
     "name": "stdout",
     "output_type": "stream",
     "text": [
      "loss_difference_between_true_label_and_probability : nan\n"
     ]
    },
    {
     "name": "stderr",
     "output_type": "stream",
     "text": [
      "/usr/local/lib/python3.7/site-packages/numpy/lib/function_base.py:392: RuntimeWarning: Mean of empty slice.\n",
      "  avg = a.mean(axis)\n",
      "/usr/local/lib/python3.7/site-packages/numpy/core/_methods.py:85: RuntimeWarning: invalid value encountered in double_scalars\n",
      "  ret = ret.dtype.type(ret / rcount)\n"
     ]
    },
    {
     "name": "stdout",
     "output_type": "stream",
     "text": [
      "loss_difference_between_true_label_and_probability : nan\n"
     ]
    },
    {
     "name": "stderr",
     "output_type": "stream",
     "text": [
      "/usr/local/lib/python3.7/site-packages/numpy/lib/function_base.py:392: RuntimeWarning: Mean of empty slice.\n",
      "  avg = a.mean(axis)\n",
      "/usr/local/lib/python3.7/site-packages/numpy/core/_methods.py:85: RuntimeWarning: invalid value encountered in double_scalars\n",
      "  ret = ret.dtype.type(ret / rcount)\n"
     ]
    },
    {
     "name": "stdout",
     "output_type": "stream",
     "text": [
      "loss_difference_between_true_label_and_probability : nan\n"
     ]
    },
    {
     "name": "stderr",
     "output_type": "stream",
     "text": [
      "/usr/local/lib/python3.7/site-packages/numpy/lib/function_base.py:392: RuntimeWarning: Mean of empty slice.\n",
      "  avg = a.mean(axis)\n",
      "/usr/local/lib/python3.7/site-packages/numpy/core/_methods.py:85: RuntimeWarning: invalid value encountered in double_scalars\n",
      "  ret = ret.dtype.type(ret / rcount)\n"
     ]
    },
    {
     "name": "stdout",
     "output_type": "stream",
     "text": [
      "loss_difference_between_true_label_and_probability : nan\n"
     ]
    },
    {
     "name": "stderr",
     "output_type": "stream",
     "text": [
      "/usr/local/lib/python3.7/site-packages/numpy/lib/function_base.py:392: RuntimeWarning: Mean of empty slice.\n",
      "  avg = a.mean(axis)\n",
      "/usr/local/lib/python3.7/site-packages/numpy/core/_methods.py:85: RuntimeWarning: invalid value encountered in double_scalars\n",
      "  ret = ret.dtype.type(ret / rcount)\n"
     ]
    },
    {
     "name": "stdout",
     "output_type": "stream",
     "text": [
      "loss_difference_between_true_label_and_probability : nan\n"
     ]
    },
    {
     "data": {
      "image/png": "[encoded data removed]",
      "text/plain": [
       "<Figure size 576x288 with 1 Axes>"
      ]
     },
     "metadata": {
      "needs_background": "light"
     },
     "output_type": "display_data"
    },
    {
     "name": "stdout",
     "output_type": "stream",
     "text": [
      "----------------------------- the execution ends here -----------------------------------------\n"
     ]
    }
   ],
   "source": [
    "#n_clusters =20\n",
    "train_loss = []\n",
    "for n_clusters in np.arange(1,31):\n",
    "    average_loss_with_different_k_values = []\n",
    "\n",
    "    estimator,label_pred,centroids = run_kmeans(n_clusters)\n",
    "\n",
    "    clusters = fill_the_clusters(label_pred)\n",
    "\n",
    "    # print(len(clusters))\n",
    "\n",
    "    loss_difference_between_true_label_and_probability = calculate_loss(clusters)\n",
    "\n",
    "    # print('k is :                                               %s' % n_clusters)\n",
    "    l = np.average(loss_difference_between_true_label_and_probability)\n",
    "    # print(n_clusters, np.average(loss_difference_between_true_label_and_probability))\n",
    "\n",
    "    print('loss_difference_between_true_label_and_probability : %s'% np.average(loss_difference_between_true_label_and_probability))\n",
    "    average_loss_with_different_k_values.append((n_clusters,l))\n",
    "    train_loss.append(np.average(loss_difference_between_true_label_and_probability))\n",
    "\n",
    "\n",
    "xs = np.arange(1,31)\n",
    "ys = train_loss\n",
    "fig, ax = plt.subplots(figsize=(8, 4))\n",
    "ys = np.reshape(ys,(30,-1))\n",
    "ax.plot(xs, ys)\n",
    "ax.set_xlabel('the value of k')\n",
    "ax.set_ylabel('the loss of recommender system, difference between recommendation and reality')\n",
    "plt.show()\n",
    "\n",
    "print('----------------------------- the execution ends here -----------------------------------------')"
   ]
  },
  {
   "cell_type": "code",
   "execution_count": 49,
   "metadata": {},
   "outputs": [
    {
     "name": "stdout",
     "output_type": "stream",
     "text": [
      "loss_difference_between_true_label_and_probability : 0.056154318744004235\n",
      "loss_difference_between_true_label_and_probability : 0.05560324849739379\n",
      "loss_difference_between_true_label_and_probability : 0.05488694878746188\n",
      "loss_difference_between_true_label_and_probability : 0.05780409759526434\n",
      "loss_difference_between_true_label_and_probability : 0.05520155235323063\n",
      "loss_difference_between_true_label_and_probability : 0.050912677682172024\n",
      "loss_difference_between_true_label_and_probability : 0.04940540455810812\n",
      "loss_difference_between_true_label_and_probability : 0.044348204442399064\n"
     ]
    },
    {
     "name": "stderr",
     "output_type": "stream",
     "text": [
      "/usr/local/lib/python3.7/site-packages/numpy/lib/function_base.py:392: RuntimeWarning: Mean of empty slice.\n",
      "  avg = a.mean(axis)\n",
      "/usr/local/lib/python3.7/site-packages/numpy/core/_methods.py:85: RuntimeWarning: invalid value encountered in double_scalars\n",
      "  ret = ret.dtype.type(ret / rcount)\n"
     ]
    },
    {
     "name": "stdout",
     "output_type": "stream",
     "text": [
      "loss_difference_between_true_label_and_probability : nan\n"
     ]
    },
    {
     "name": "stderr",
     "output_type": "stream",
     "text": [
      "/usr/local/lib/python3.7/site-packages/numpy/lib/function_base.py:392: RuntimeWarning: Mean of empty slice.\n",
      "  avg = a.mean(axis)\n",
      "/usr/local/lib/python3.7/site-packages/numpy/core/_methods.py:85: RuntimeWarning: invalid value encountered in double_scalars\n",
      "  ret = ret.dtype.type(ret / rcount)\n"
     ]
    },
    {
     "name": "stdout",
     "output_type": "stream",
     "text": [
      "loss_difference_between_true_label_and_probability : nan\n"
     ]
    },
    {
     "name": "stderr",
     "output_type": "stream",
     "text": [
      "/usr/local/lib/python3.7/site-packages/numpy/lib/function_base.py:392: RuntimeWarning: Mean of empty slice.\n",
      "  avg = a.mean(axis)\n",
      "/usr/local/lib/python3.7/site-packages/numpy/core/_methods.py:85: RuntimeWarning: invalid value encountered in double_scalars\n",
      "  ret = ret.dtype.type(ret / rcount)\n"
     ]
    },
    {
     "name": "stdout",
     "output_type": "stream",
     "text": [
      "loss_difference_between_true_label_and_probability : nan\n"
     ]
    },
    {
     "name": "stderr",
     "output_type": "stream",
     "text": [
      "/usr/local/lib/python3.7/site-packages/numpy/lib/function_base.py:392: RuntimeWarning: Mean of empty slice.\n",
      "  avg = a.mean(axis)\n",
      "/usr/local/lib/python3.7/site-packages/numpy/core/_methods.py:85: RuntimeWarning: invalid value encountered in double_scalars\n",
      "  ret = ret.dtype.type(ret / rcount)\n"
     ]
    },
    {
     "name": "stdout",
     "output_type": "stream",
     "text": [
      "loss_difference_between_true_label_and_probability : nan\n"
     ]
    },
    {
     "name": "stderr",
     "output_type": "stream",
     "text": [
      "/usr/local/lib/python3.7/site-packages/numpy/lib/function_base.py:392: RuntimeWarning: Mean of empty slice.\n",
      "  avg = a.mean(axis)\n",
      "/usr/local/lib/python3.7/site-packages/numpy/core/_methods.py:85: RuntimeWarning: invalid value encountered in double_scalars\n",
      "  ret = ret.dtype.type(ret / rcount)\n"
     ]
    },
    {
     "name": "stdout",
     "output_type": "stream",
     "text": [
      "loss_difference_between_true_label_and_probability : nan\n"
     ]
    },
    {
     "name": "stderr",
     "output_type": "stream",
     "text": [
      "/usr/local/lib/python3.7/site-packages/numpy/lib/function_base.py:392: RuntimeWarning: Mean of empty slice.\n",
      "  avg = a.mean(axis)\n",
      "/usr/local/lib/python3.7/site-packages/numpy/core/_methods.py:85: RuntimeWarning: invalid value encountered in double_scalars\n",
      "  ret = ret.dtype.type(ret / rcount)\n"
     ]
    },
    {
     "name": "stdout",
     "output_type": "stream",
     "text": [
      "loss_difference_between_true_label_and_probability : nan\n"
     ]
    },
    {
     "name": "stderr",
     "output_type": "stream",
     "text": [
      "/usr/local/lib/python3.7/site-packages/numpy/lib/function_base.py:392: RuntimeWarning: Mean of empty slice.\n",
      "  avg = a.mean(axis)\n",
      "/usr/local/lib/python3.7/site-packages/numpy/core/_methods.py:85: RuntimeWarning: invalid value encountered in double_scalars\n",
      "  ret = ret.dtype.type(ret / rcount)\n"
     ]
    },
    {
     "name": "stdout",
     "output_type": "stream",
     "text": [
      "loss_difference_between_true_label_and_probability : nan\n"
     ]
    },
    {
     "name": "stderr",
     "output_type": "stream",
     "text": [
      "/usr/local/lib/python3.7/site-packages/numpy/lib/function_base.py:392: RuntimeWarning: Mean of empty slice.\n",
      "  avg = a.mean(axis)\n",
      "/usr/local/lib/python3.7/site-packages/numpy/core/_methods.py:85: RuntimeWarning: invalid value encountered in double_scalars\n",
      "  ret = ret.dtype.type(ret / rcount)\n"
     ]
    },
    {
     "name": "stdout",
     "output_type": "stream",
     "text": [
      "loss_difference_between_true_label_and_probability : nan\n"
     ]
    },
    {
     "name": "stderr",
     "output_type": "stream",
     "text": [
      "/usr/local/lib/python3.7/site-packages/numpy/lib/function_base.py:392: RuntimeWarning: Mean of empty slice.\n",
      "  avg = a.mean(axis)\n",
      "/usr/local/lib/python3.7/site-packages/numpy/core/_methods.py:85: RuntimeWarning: invalid value encountered in double_scalars\n",
      "  ret = ret.dtype.type(ret / rcount)\n"
     ]
    },
    {
     "name": "stdout",
     "output_type": "stream",
     "text": [
      "loss_difference_between_true_label_and_probability : nan\n"
     ]
    },
    {
     "name": "stderr",
     "output_type": "stream",
     "text": [
      "/usr/local/lib/python3.7/site-packages/numpy/lib/function_base.py:392: RuntimeWarning: Mean of empty slice.\n",
      "  avg = a.mean(axis)\n",
      "/usr/local/lib/python3.7/site-packages/numpy/core/_methods.py:85: RuntimeWarning: invalid value encountered in double_scalars\n",
      "  ret = ret.dtype.type(ret / rcount)\n"
     ]
    },
    {
     "name": "stdout",
     "output_type": "stream",
     "text": [
      "loss_difference_between_true_label_and_probability : nan\n"
     ]
    },
    {
     "name": "stderr",
     "output_type": "stream",
     "text": [
      "/usr/local/lib/python3.7/site-packages/numpy/lib/function_base.py:392: RuntimeWarning: Mean of empty slice.\n",
      "  avg = a.mean(axis)\n",
      "/usr/local/lib/python3.7/site-packages/numpy/core/_methods.py:85: RuntimeWarning: invalid value encountered in double_scalars\n",
      "  ret = ret.dtype.type(ret / rcount)\n"
     ]
    },
    {
     "name": "stdout",
     "output_type": "stream",
     "text": [
      "loss_difference_between_true_label_and_probability : nan\n"
     ]
    },
    {
     "name": "stderr",
     "output_type": "stream",
     "text": [
      "/usr/local/lib/python3.7/site-packages/numpy/lib/function_base.py:392: RuntimeWarning: Mean of empty slice.\n",
      "  avg = a.mean(axis)\n",
      "/usr/local/lib/python3.7/site-packages/numpy/core/_methods.py:85: RuntimeWarning: invalid value encountered in double_scalars\n",
      "  ret = ret.dtype.type(ret / rcount)\n"
     ]
    },
    {
     "name": "stdout",
     "output_type": "stream",
     "text": [
      "loss_difference_between_true_label_and_probability : nan\n"
     ]
    },
    {
     "name": "stderr",
     "output_type": "stream",
     "text": [
      "/usr/local/lib/python3.7/site-packages/numpy/lib/function_base.py:392: RuntimeWarning: Mean of empty slice.\n",
      "  avg = a.mean(axis)\n",
      "/usr/local/lib/python3.7/site-packages/numpy/core/_methods.py:85: RuntimeWarning: invalid value encountered in double_scalars\n",
      "  ret = ret.dtype.type(ret / rcount)\n"
     ]
    },
    {
     "name": "stdout",
     "output_type": "stream",
     "text": [
      "loss_difference_between_true_label_and_probability : nan\n"
     ]
    },
    {
     "name": "stderr",
     "output_type": "stream",
     "text": [
      "/usr/local/lib/python3.7/site-packages/numpy/lib/function_base.py:392: RuntimeWarning: Mean of empty slice.\n",
      "  avg = a.mean(axis)\n",
      "/usr/local/lib/python3.7/site-packages/numpy/core/_methods.py:85: RuntimeWarning: invalid value encountered in double_scalars\n",
      "  ret = ret.dtype.type(ret / rcount)\n"
     ]
    },
    {
     "name": "stdout",
     "output_type": "stream",
     "text": [
      "loss_difference_between_true_label_and_probability : nan\n"
     ]
    },
    {
     "name": "stderr",
     "output_type": "stream",
     "text": [
      "/usr/local/lib/python3.7/site-packages/numpy/lib/function_base.py:392: RuntimeWarning: Mean of empty slice.\n",
      "  avg = a.mean(axis)\n",
      "/usr/local/lib/python3.7/site-packages/numpy/core/_methods.py:85: RuntimeWarning: invalid value encountered in double_scalars\n",
      "  ret = ret.dtype.type(ret / rcount)\n"
     ]
    },
    {
     "name": "stdout",
     "output_type": "stream",
     "text": [
      "loss_difference_between_true_label_and_probability : nan\n"
     ]
    },
    {
     "name": "stderr",
     "output_type": "stream",
     "text": [
      "/usr/local/lib/python3.7/site-packages/numpy/lib/function_base.py:392: RuntimeWarning: Mean of empty slice.\n",
      "  avg = a.mean(axis)\n",
      "/usr/local/lib/python3.7/site-packages/numpy/core/_methods.py:85: RuntimeWarning: invalid value encountered in double_scalars\n",
      "  ret = ret.dtype.type(ret / rcount)\n"
     ]
    },
    {
     "name": "stdout",
     "output_type": "stream",
     "text": [
      "loss_difference_between_true_label_and_probability : nan\n"
     ]
    },
    {
     "name": "stderr",
     "output_type": "stream",
     "text": [
      "/usr/local/lib/python3.7/site-packages/numpy/lib/function_base.py:392: RuntimeWarning: Mean of empty slice.\n",
      "  avg = a.mean(axis)\n",
      "/usr/local/lib/python3.7/site-packages/numpy/core/_methods.py:85: RuntimeWarning: invalid value encountered in double_scalars\n",
      "  ret = ret.dtype.type(ret / rcount)\n"
     ]
    },
    {
     "name": "stdout",
     "output_type": "stream",
     "text": [
      "loss_difference_between_true_label_and_probability : nan\n"
     ]
    },
    {
     "name": "stderr",
     "output_type": "stream",
     "text": [
      "/usr/local/lib/python3.7/site-packages/numpy/lib/function_base.py:392: RuntimeWarning: Mean of empty slice.\n",
      "  avg = a.mean(axis)\n",
      "/usr/local/lib/python3.7/site-packages/numpy/core/_methods.py:85: RuntimeWarning: invalid value encountered in double_scalars\n",
      "  ret = ret.dtype.type(ret / rcount)\n"
     ]
    },
    {
     "name": "stdout",
     "output_type": "stream",
     "text": [
      "loss_difference_between_true_label_and_probability : nan\n"
     ]
    },
    {
     "name": "stderr",
     "output_type": "stream",
     "text": [
      "/usr/local/lib/python3.7/site-packages/numpy/lib/function_base.py:392: RuntimeWarning: Mean of empty slice.\n",
      "  avg = a.mean(axis)\n",
      "/usr/local/lib/python3.7/site-packages/numpy/core/_methods.py:85: RuntimeWarning: invalid value encountered in double_scalars\n",
      "  ret = ret.dtype.type(ret / rcount)\n"
     ]
    },
    {
     "name": "stdout",
     "output_type": "stream",
     "text": [
      "loss_difference_between_true_label_and_probability : nan\n"
     ]
    },
    {
     "name": "stderr",
     "output_type": "stream",
     "text": [
      "/usr/local/lib/python3.7/site-packages/numpy/lib/function_base.py:392: RuntimeWarning: Mean of empty slice.\n",
      "  avg = a.mean(axis)\n",
      "/usr/local/lib/python3.7/site-packages/numpy/core/_methods.py:85: RuntimeWarning: invalid value encountered in double_scalars\n",
      "  ret = ret.dtype.type(ret / rcount)\n"
     ]
    },
    {
     "name": "stdout",
     "output_type": "stream",
     "text": [
      "loss_difference_between_true_label_and_probability : nan\n"
     ]
    },
    {
     "name": "stderr",
     "output_type": "stream",
     "text": [
      "/usr/local/lib/python3.7/site-packages/numpy/lib/function_base.py:392: RuntimeWarning: Mean of empty slice.\n",
      "  avg = a.mean(axis)\n",
      "/usr/local/lib/python3.7/site-packages/numpy/core/_methods.py:85: RuntimeWarning: invalid value encountered in double_scalars\n",
      "  ret = ret.dtype.type(ret / rcount)\n"
     ]
    },
    {
     "name": "stdout",
     "output_type": "stream",
     "text": [
      "loss_difference_between_true_label_and_probability : nan\n"
     ]
    },
    {
     "name": "stderr",
     "output_type": "stream",
     "text": [
      "/usr/local/lib/python3.7/site-packages/numpy/lib/function_base.py:392: RuntimeWarning: Mean of empty slice.\n",
      "  avg = a.mean(axis)\n",
      "/usr/local/lib/python3.7/site-packages/numpy/core/_methods.py:85: RuntimeWarning: invalid value encountered in double_scalars\n",
      "  ret = ret.dtype.type(ret / rcount)\n"
     ]
    },
    {
     "name": "stdout",
     "output_type": "stream",
     "text": [
      "loss_difference_between_true_label_and_probability : nan\n"
     ]
    },
    {
     "data": {
      "image/png": "[encoded data removed]",
      "text/plain": [
       "<Figure size 576x288 with 1 Axes>"
      ]
     },
     "metadata": {
      "needs_background": "light"
     },
     "output_type": "display_data"
    },
    {
     "name": "stdout",
     "output_type": "stream",
     "text": [
      "----------------------------- the execution ends here -----------------------------------------\n"
     ]
    }
   ],
   "source": [
    "#n_clusters =20\n",
    "train_loss = []\n",
    "for n_clusters in np.arange(1,31):\n",
    "    average_loss_with_different_k_values = []\n",
    "\n",
    "    estimator,label_pred,centroids = run_kmeans(n_clusters)\n",
    "\n",
    "    clusters = fill_the_clusters(label_pred)\n",
    "\n",
    "    # print(len(clusters))\n",
    "\n",
    "    loss_difference_between_true_label_and_probability = calculate_loss2(clusters)\n",
    "\n",
    "    # print('k is :                                               %s' % n_clusters)\n",
    "    l = np.average(loss_difference_between_true_label_and_probability)\n",
    "    # print(n_clusters, np.average(loss_difference_between_true_label_and_probability))\n",
    "\n",
    "    print('loss_difference_between_true_label_and_probability : %s'% np.average(loss_difference_between_true_label_and_probability))\n",
    "    average_loss_with_different_k_values.append((n_clusters,l))\n",
    "    train_loss.append(np.average(loss_difference_between_true_label_and_probability))\n",
    "\n",
    "\n",
    "xs = np.arange(1,31)\n",
    "ys = train_loss\n",
    "fig, ax = plt.subplots(figsize=(8, 4))\n",
    "ys = np.reshape(ys,(30,-1))\n",
    "ax.plot(xs, ys)\n",
    "ax.set_xlabel('the value of k')\n",
    "ax.set_ylabel('the loss of recommender system, difference between recommendation and reality')\n",
    "plt.show()\n",
    "\n",
    "print('----------------------------- the execution ends here -----------------------------------------')"
   ]
  },
  {
   "cell_type": "code",
   "execution_count": null,
   "metadata": {},
   "outputs": [],
   "source": [
    "# # training epoch is 8000"
   ]
  },
  {
   "cell_type": "code",
   "execution_count": 50,
   "metadata": {},
   "outputs": [
    {
     "name": "stdout",
     "output_type": "stream",
     "text": [
      "\n"
     ]
    },
    {
     "data": {
      "image/png": "[encoded data removed]",
      "text/plain": [
       "<Figure size 432x288 with 1 Axes>"
      ]
     },
     "metadata": {
      "needs_background": "light"
     },
     "output_type": "display_data"
    },
    {
     "name": "stdout",
     "output_type": "stream",
     "text": [
      "autoencoder finished\n"
     ]
    }
   ],
   "source": [
    "a = autoencoder(num_epochs=8000, denoising=False, masking=0.5, display_step=200)\n",
    "\n",
    "compressed_training_data = a.compressed_train\n",
    "\n",
    "original_training_data = a.train\n",
    "\n",
    "compressed_testing_data = a.compressed_test\n",
    "original_testing_data = a.test"
   ]
  },
  {
   "cell_type": "code",
   "execution_count": 51,
   "metadata": {},
   "outputs": [
    {
     "name": "stdout",
     "output_type": "stream",
     "text": [
      "loss_difference_between_true_label_and_probability : 0.10609548012793654\n",
      "loss_difference_between_true_label_and_probability : 0.10321423322240243\n",
      "loss_difference_between_true_label_and_probability : 0.09565372724956682\n",
      "loss_difference_between_true_label_and_probability : 0.09472766787560365\n",
      "loss_difference_between_true_label_and_probability : 0.08652230630524138\n",
      "loss_difference_between_true_label_and_probability : 0.08008533232014431\n",
      "loss_difference_between_true_label_and_probability : 0.08016744844354659\n",
      "loss_difference_between_true_label_and_probability : 0.07839948817529864\n",
      "loss_difference_between_true_label_and_probability : 0.07454760328298536\n",
      "loss_difference_between_true_label_and_probability : 0.07301322318414859\n",
      "loss_difference_between_true_label_and_probability : 0.07337494925615501\n",
      "loss_difference_between_true_label_and_probability : 0.07099513009853797\n",
      "loss_difference_between_true_label_and_probability : 0.07220400819785898\n",
      "loss_difference_between_true_label_and_probability : 0.06999396892966897\n",
      "loss_difference_between_true_label_and_probability : 0.07357843741363342\n",
      "loss_difference_between_true_label_and_probability : 0.07086297419470854\n",
      "loss_difference_between_true_label_and_probability : 0.06922663326467067\n",
      "loss_difference_between_true_label_and_probability : 0.06867865271172223\n",
      "loss_difference_between_true_label_and_probability : 0.06837950267388804\n",
      "loss_difference_between_true_label_and_probability : 0.06196040030795639\n",
      "loss_difference_between_true_label_and_probability : 0.06098832998624427\n",
      "loss_difference_between_true_label_and_probability : 0.06085218931115911\n",
      "loss_difference_between_true_label_and_probability : 0.06062602239747005\n",
      "loss_difference_between_true_label_and_probability : 0.06025780264596618\n",
      "loss_difference_between_true_label_and_probability : 0.059061197463258455\n",
      "loss_difference_between_true_label_and_probability : 0.058082548075974766\n",
      "loss_difference_between_true_label_and_probability : 0.05821383390616677\n",
      "loss_difference_between_true_label_and_probability : 0.05470705285137931\n",
      "loss_difference_between_true_label_and_probability : 0.05229657633268602\n",
      "loss_difference_between_true_label_and_probability : 0.052292055683399\n"
     ]
    },
    {
     "data": {
      "image/png": "[encoded data removed]",
      "text/plain": [
       "<Figure size 576x288 with 1 Axes>"
      ]
     },
     "metadata": {
      "needs_background": "light"
     },
     "output_type": "display_data"
    },
    {
     "name": "stdout",
     "output_type": "stream",
     "text": [
      "----------------------------- the execution ends here -----------------------------------------\n"
     ]
    }
   ],
   "source": [
    "#n_clusters =20\n",
    "train_loss = []\n",
    "for n_clusters in np.arange(1,31):\n",
    "    average_loss_with_different_k_values = []\n",
    "\n",
    "    estimator,label_pred,centroids = run_kmeans(n_clusters)\n",
    "\n",
    "    clusters = fill_the_clusters(label_pred)\n",
    "\n",
    "    # print(len(clusters))\n",
    "\n",
    "    loss_difference_between_true_label_and_probability = calculate_loss(clusters)\n",
    "\n",
    "    # print('k is :                                               %s' % n_clusters)\n",
    "    l = np.average(loss_difference_between_true_label_and_probability)\n",
    "    # print(n_clusters, np.average(loss_difference_between_true_label_and_probability))\n",
    "\n",
    "    print('loss_difference_between_true_label_and_probability : %s'% np.average(loss_difference_between_true_label_and_probability))\n",
    "    average_loss_with_different_k_values.append((n_clusters,l))\n",
    "    train_loss.append(np.average(loss_difference_between_true_label_and_probability))\n",
    "\n",
    "\n",
    "xs = np.arange(1,31)\n",
    "ys = train_loss\n",
    "fig, ax = plt.subplots(figsize=(8, 4))\n",
    "ys = np.reshape(ys,(30,-1))\n",
    "ax.plot(xs, ys)\n",
    "ax.set_xlabel('the value of k')\n",
    "ax.set_ylabel('the loss of recommender system, difference between recommendation and reality')\n",
    "plt.show()\n",
    "\n",
    "print('----------------------------- the execution ends here -----------------------------------------')"
   ]
  },
  {
   "cell_type": "code",
   "execution_count": 52,
   "metadata": {},
   "outputs": [
    {
     "name": "stdout",
     "output_type": "stream",
     "text": [
      "loss_difference_between_true_label_and_probability : 0.056154318744004235\n",
      "loss_difference_between_true_label_and_probability : 0.05567152203862301\n",
      "loss_difference_between_true_label_and_probability : 0.05567152203862301\n",
      "loss_difference_between_true_label_and_probability : 0.05506993378732568\n",
      "loss_difference_between_true_label_and_probability : 0.048240230840872374\n",
      "loss_difference_between_true_label_and_probability : 0.04695559154602078\n",
      "loss_difference_between_true_label_and_probability : 0.046808771478835075\n",
      "loss_difference_between_true_label_and_probability : 0.048805397756179654\n",
      "loss_difference_between_true_label_and_probability : 0.04399330375821768\n",
      "loss_difference_between_true_label_and_probability : 0.04566470383801723\n",
      "loss_difference_between_true_label_and_probability : 0.0449774120379058\n",
      "loss_difference_between_true_label_and_probability : 0.04781654569740249\n",
      "loss_difference_between_true_label_and_probability : 0.04430870120047217\n",
      "loss_difference_between_true_label_and_probability : 0.04404554330573534\n",
      "loss_difference_between_true_label_and_probability : 0.044269507471468815\n",
      "loss_difference_between_true_label_and_probability : 0.045066459060124464\n",
      "loss_difference_between_true_label_and_probability : 0.0461553705106242\n",
      "loss_difference_between_true_label_and_probability : 0.04553626657647306\n",
      "loss_difference_between_true_label_and_probability : 0.0457277798130002\n",
      "loss_difference_between_true_label_and_probability : 0.04152236509549564\n",
      "loss_difference_between_true_label_and_probability : 0.04541408138771479\n",
      "loss_difference_between_true_label_and_probability : 0.045420796740690536\n",
      "loss_difference_between_true_label_and_probability : 0.042778786809838695\n",
      "loss_difference_between_true_label_and_probability : 0.036614670592904866\n",
      "loss_difference_between_true_label_and_probability : 0.043226608847044205\n",
      "loss_difference_between_true_label_and_probability : 0.04188904992807642\n",
      "loss_difference_between_true_label_and_probability : 0.04238086466600706\n",
      "loss_difference_between_true_label_and_probability : 0.03667353105374489\n",
      "loss_difference_between_true_label_and_probability : 0.04100683097675111\n",
      "loss_difference_between_true_label_and_probability : 0.04125601198291004\n"
     ]
    },
    {
     "data": {
      "image/png": "[encoded data removed]",
      "text/plain": [
       "<Figure size 576x288 with 1 Axes>"
      ]
     },
     "metadata": {
      "needs_background": "light"
     },
     "output_type": "display_data"
    },
    {
     "name": "stdout",
     "output_type": "stream",
     "text": [
      "----------------------------- the execution ends here -----------------------------------------\n"
     ]
    }
   ],
   "source": [
    "#n_clusters =20\n",
    "train_loss = []\n",
    "for n_clusters in np.arange(1,31):\n",
    "    average_loss_with_different_k_values = []\n",
    "\n",
    "    estimator,label_pred,centroids = run_kmeans(n_clusters)\n",
    "\n",
    "    clusters = fill_the_clusters(label_pred)\n",
    "\n",
    "    # print(len(clusters))\n",
    "\n",
    "    loss_difference_between_true_label_and_probability = calculate_loss2(clusters)\n",
    "\n",
    "    # print('k is :                                               %s' % n_clusters)\n",
    "    l = np.average(loss_difference_between_true_label_and_probability)\n",
    "    # print(n_clusters, np.average(loss_difference_between_true_label_and_probability))\n",
    "\n",
    "    print('loss_difference_between_true_label_and_probability : %s'% np.average(loss_difference_between_true_label_and_probability))\n",
    "    average_loss_with_different_k_values.append((n_clusters,l))\n",
    "    train_loss.append(np.average(loss_difference_between_true_label_and_probability))\n",
    "\n",
    "\n",
    "xs = np.arange(1,31)\n",
    "ys = train_loss\n",
    "fig, ax = plt.subplots(figsize=(8, 4))\n",
    "ys = np.reshape(ys,(30,-1))\n",
    "ax.plot(xs, ys)\n",
    "ax.set_xlabel('the value of k')\n",
    "ax.set_ylabel('the loss of recommender system, difference between recommendation and reality')\n",
    "plt.show()\n",
    "\n",
    "print('----------------------------- the execution ends here -----------------------------------------')"
   ]
  },
  {
   "cell_type": "code",
   "execution_count": null,
   "metadata": {},
   "outputs": [],
   "source": [
    "# # training epoch is 9000"
   ]
  },
  {
   "cell_type": "code",
   "execution_count": 53,
   "metadata": {},
   "outputs": [
    {
     "name": "stdout",
     "output_type": "stream",
     "text": [
      "\n"
     ]
    },
    {
     "data": {
      "image/png": "[encoded data removed]",
      "text/plain": [
       "<Figure size 432x288 with 1 Axes>"
      ]
     },
     "metadata": {
      "needs_background": "light"
     },
     "output_type": "display_data"
    },
    {
     "name": "stdout",
     "output_type": "stream",
     "text": [
      "autoencoder finished\n"
     ]
    }
   ],
   "source": [
    "a = autoencoder(num_epochs=9000, denoising=False, masking=0.5, display_step=200)\n",
    "\n",
    "compressed_training_data = a.compressed_train\n",
    "\n",
    "original_training_data = a.train\n",
    "\n",
    "compressed_testing_data = a.compressed_test\n",
    "original_testing_data = a.test"
   ]
  },
  {
   "cell_type": "code",
   "execution_count": 54,
   "metadata": {},
   "outputs": [
    {
     "name": "stdout",
     "output_type": "stream",
     "text": [
      "loss_difference_between_true_label_and_probability : 0.10609548012793654\n",
      "loss_difference_between_true_label_and_probability : 0.10658614235071864\n",
      "loss_difference_between_true_label_and_probability : 0.10603381735905319\n",
      "loss_difference_between_true_label_and_probability : 0.10457894648789942\n",
      "loss_difference_between_true_label_and_probability : 0.1031009549947436\n",
      "loss_difference_between_true_label_and_probability : 0.09962530920393385\n",
      "loss_difference_between_true_label_and_probability : 0.0992446322090272\n",
      "loss_difference_between_true_label_and_probability : 0.09955063768038085\n",
      "loss_difference_between_true_label_and_probability : 0.09946840083827559\n",
      "loss_difference_between_true_label_and_probability : 0.09692385622758988\n",
      "loss_difference_between_true_label_and_probability : 0.0932682882417197\n",
      "loss_difference_between_true_label_and_probability : 0.09332269747086522\n",
      "loss_difference_between_true_label_and_probability : 0.09145188175013604\n",
      "loss_difference_between_true_label_and_probability : 0.08798385441608639\n",
      "loss_difference_between_true_label_and_probability : 0.0899620619387786\n",
      "loss_difference_between_true_label_and_probability : 0.08773607392374377\n",
      "loss_difference_between_true_label_and_probability : 0.0717332746118871\n",
      "loss_difference_between_true_label_and_probability : 0.07272675067540418\n",
      "loss_difference_between_true_label_and_probability : 0.07150250001749194\n",
      "loss_difference_between_true_label_and_probability : 0.07610490498848255\n",
      "loss_difference_between_true_label_and_probability : 0.07399554711047858\n",
      "loss_difference_between_true_label_and_probability : 0.06899173984011356\n",
      "loss_difference_between_true_label_and_probability : 0.07120020809632549\n",
      "loss_difference_between_true_label_and_probability : 0.07000566243539283\n",
      "loss_difference_between_true_label_and_probability : 0.07138430337633386\n",
      "loss_difference_between_true_label_and_probability : 0.06805035129849227\n",
      "loss_difference_between_true_label_and_probability : 0.06419864590285845\n",
      "loss_difference_between_true_label_and_probability : 0.060498146499788276\n",
      "loss_difference_between_true_label_and_probability : 0.06361157225652339\n",
      "loss_difference_between_true_label_and_probability : 0.061492591828116665\n"
     ]
    },
    {
     "data": {
      "image/png": "[encoded data removed]",
      "text/plain": [
       "<Figure size 576x288 with 1 Axes>"
      ]
     },
     "metadata": {
      "needs_background": "light"
     },
     "output_type": "display_data"
    },
    {
     "name": "stdout",
     "output_type": "stream",
     "text": [
      "----------------------------- the execution ends here -----------------------------------------\n"
     ]
    }
   ],
   "source": [
    "#n_clusters =20\n",
    "train_loss = []\n",
    "for n_clusters in np.arange(1,31):\n",
    "    average_loss_with_different_k_values = []\n",
    "\n",
    "    estimator,label_pred,centroids = run_kmeans(n_clusters)\n",
    "\n",
    "    clusters = fill_the_clusters(label_pred)\n",
    "\n",
    "    # print(len(clusters))\n",
    "\n",
    "    loss_difference_between_true_label_and_probability = calculate_loss(clusters)\n",
    "\n",
    "    # print('k is :                                               %s' % n_clusters)\n",
    "    l = np.average(loss_difference_between_true_label_and_probability)\n",
    "    # print(n_clusters, np.average(loss_difference_between_true_label_and_probability))\n",
    "\n",
    "    print('loss_difference_between_true_label_and_probability : %s'% np.average(loss_difference_between_true_label_and_probability))\n",
    "    average_loss_with_different_k_values.append((n_clusters,l))\n",
    "    train_loss.append(np.average(loss_difference_between_true_label_and_probability))\n",
    "\n",
    "\n",
    "xs = np.arange(1,31)\n",
    "ys = train_loss\n",
    "fig, ax = plt.subplots(figsize=(8, 4))\n",
    "ys = np.reshape(ys,(30,-1))\n",
    "ax.plot(xs, ys)\n",
    "ax.set_xlabel('the value of k')\n",
    "ax.set_ylabel('the loss of recommender system, difference between recommendation and reality')\n",
    "plt.show()\n",
    "\n",
    "print('----------------------------- the execution ends here -----------------------------------------')"
   ]
  },
  {
   "cell_type": "code",
   "execution_count": 55,
   "metadata": {},
   "outputs": [
    {
     "name": "stdout",
     "output_type": "stream",
     "text": [
      "loss_difference_between_true_label_and_probability : 0.056154318744004235\n",
      "loss_difference_between_true_label_and_probability : 0.056154318744004235\n",
      "loss_difference_between_true_label_and_probability : 0.056154318744004235\n",
      "loss_difference_between_true_label_and_probability : 0.05598984505979371\n",
      "loss_difference_between_true_label_and_probability : 0.05598984505979371\n",
      "loss_difference_between_true_label_and_probability : 0.053182827515934054\n",
      "loss_difference_between_true_label_and_probability : 0.053867250266358496\n",
      "loss_difference_between_true_label_and_probability : 0.053867250266358496\n",
      "loss_difference_between_true_label_and_probability : 0.053867250266358496\n",
      "loss_difference_between_true_label_and_probability : 0.05258763749536873\n",
      "loss_difference_between_true_label_and_probability : 0.051512696003371945\n",
      "loss_difference_between_true_label_and_probability : 0.05229077348605722\n",
      "loss_difference_between_true_label_and_probability : 0.05113302080475884\n",
      "loss_difference_between_true_label_and_probability : 0.048637889593049724\n",
      "loss_difference_between_true_label_and_probability : 0.03882395356878066\n",
      "loss_difference_between_true_label_and_probability : 0.03759475153142922\n",
      "loss_difference_between_true_label_and_probability : 0.049711675592266726\n",
      "loss_difference_between_true_label_and_probability : 0.052079505800550416\n",
      "loss_difference_between_true_label_and_probability : 0.04748194955244883\n",
      "loss_difference_between_true_label_and_probability : 0.048834729284661614\n",
      "loss_difference_between_true_label_and_probability : 0.05512008249950066\n",
      "loss_difference_between_true_label_and_probability : 0.05134820525037383\n",
      "loss_difference_between_true_label_and_probability : 0.05218536335173886\n",
      "loss_difference_between_true_label_and_probability : 0.05093208441713113\n",
      "loss_difference_between_true_label_and_probability : 0.05393791820180541\n",
      "loss_difference_between_true_label_and_probability : 0.046597577775357425\n",
      "loss_difference_between_true_label_and_probability : 0.05261624246246296\n",
      "loss_difference_between_true_label_and_probability : 0.043746740979951765\n",
      "loss_difference_between_true_label_and_probability : 0.049988861708339535\n",
      "loss_difference_between_true_label_and_probability : 0.04295007731996987\n"
     ]
    },
    {
     "data": {
      "image/png": "[encoded data removed]",
      "text/plain": [
       "<Figure size 576x288 with 1 Axes>"
      ]
     },
     "metadata": {
      "needs_background": "light"
     },
     "output_type": "display_data"
    },
    {
     "name": "stdout",
     "output_type": "stream",
     "text": [
      "----------------------------- the execution ends here -----------------------------------------\n"
     ]
    }
   ],
   "source": [
    "#n_clusters =20\n",
    "train_loss = []\n",
    "for n_clusters in np.arange(1,31):\n",
    "    average_loss_with_different_k_values = []\n",
    "\n",
    "    estimator,label_pred,centroids = run_kmeans(n_clusters)\n",
    "\n",
    "    clusters = fill_the_clusters(label_pred)\n",
    "\n",
    "    # print(len(clusters))\n",
    "\n",
    "    loss_difference_between_true_label_and_probability = calculate_loss2(clusters)\n",
    "\n",
    "    # print('k is :                                               %s' % n_clusters)\n",
    "    l = np.average(loss_difference_between_true_label_and_probability)\n",
    "    # print(n_clusters, np.average(loss_difference_between_true_label_and_probability))\n",
    "\n",
    "    print('loss_difference_between_true_label_and_probability : %s'% np.average(loss_difference_between_true_label_and_probability))\n",
    "    average_loss_with_different_k_values.append((n_clusters,l))\n",
    "    train_loss.append(np.average(loss_difference_between_true_label_and_probability))\n",
    "\n",
    "\n",
    "xs = np.arange(1,31)\n",
    "ys = train_loss\n",
    "fig, ax = plt.subplots(figsize=(8, 4))\n",
    "ys = np.reshape(ys,(30,-1))\n",
    "ax.plot(xs, ys)\n",
    "ax.set_xlabel('the value of k')\n",
    "ax.set_ylabel('the loss of recommender system, difference between recommendation and reality')\n",
    "plt.show()\n",
    "\n",
    "print('----------------------------- the execution ends here -----------------------------------------')"
   ]
  },
  {
   "cell_type": "code",
   "execution_count": null,
   "metadata": {},
   "outputs": [],
   "source": [
    "# # training epoch is 10000"
   ]
  },
  {
   "cell_type": "code",
   "execution_count": 56,
   "metadata": {},
   "outputs": [
    {
     "name": "stdout",
     "output_type": "stream",
     "text": [
      "\n"
     ]
    },
    {
     "data": {
      "image/png": "[encoded data removed]",
      "text/plain": [
       "<Figure size 432x288 with 1 Axes>"
      ]
     },
     "metadata": {
      "needs_background": "light"
     },
     "output_type": "display_data"
    },
    {
     "name": "stdout",
     "output_type": "stream",
     "text": [
      "autoencoder finished\n"
     ]
    }
   ],
   "source": [
    "a = autoencoder(num_epochs=10000, denoising=False, masking=0.5, display_step=200)\n",
    "\n",
    "compressed_training_data = a.compressed_train\n",
    "\n",
    "original_training_data = a.train\n",
    "\n",
    "compressed_testing_data = a.compressed_test\n",
    "original_testing_data = a.test"
   ]
  },
  {
   "cell_type": "code",
   "execution_count": 57,
   "metadata": {},
   "outputs": [
    {
     "name": "stdout",
     "output_type": "stream",
     "text": [
      "loss_difference_between_true_label_and_probability : 0.10609548012793654\n",
      "loss_difference_between_true_label_and_probability : 0.10944100730780976\n",
      "loss_difference_between_true_label_and_probability : 0.09621371958742568\n",
      "loss_difference_between_true_label_and_probability : 0.09355061744542643\n",
      "loss_difference_between_true_label_and_probability : 0.09007331557657988\n",
      "loss_difference_between_true_label_and_probability : 0.08855067515082395\n",
      "loss_difference_between_true_label_and_probability : 0.09083746840615713\n",
      "loss_difference_between_true_label_and_probability : 0.08270728572920352\n",
      "loss_difference_between_true_label_and_probability : 0.08148301616398045\n",
      "loss_difference_between_true_label_and_probability : 0.07315152350688102\n",
      "loss_difference_between_true_label_and_probability : 0.09343037475204295\n",
      "loss_difference_between_true_label_and_probability : 0.07020851373411434\n",
      "loss_difference_between_true_label_and_probability : 0.0685153294094009\n",
      "loss_difference_between_true_label_and_probability : 0.07096441603221966\n",
      "loss_difference_between_true_label_and_probability : 0.06828545723839773\n",
      "loss_difference_between_true_label_and_probability : 0.06809668692263753\n",
      "loss_difference_between_true_label_and_probability : 0.06690959718129438\n",
      "loss_difference_between_true_label_and_probability : 0.06707790390370097\n",
      "loss_difference_between_true_label_and_probability : 0.06892992280898613\n",
      "loss_difference_between_true_label_and_probability : 0.06877313616579268\n",
      "loss_difference_between_true_label_and_probability : 0.06342023177568687\n",
      "loss_difference_between_true_label_and_probability : 0.06408575277861167\n",
      "loss_difference_between_true_label_and_probability : 0.0631100489980915\n",
      "loss_difference_between_true_label_and_probability : 0.06276168598393303\n",
      "loss_difference_between_true_label_and_probability : 0.0620009719328034\n",
      "loss_difference_between_true_label_and_probability : 0.06293908406160847\n",
      "loss_difference_between_true_label_and_probability : 0.0638888866259551\n",
      "loss_difference_between_true_label_and_probability : 0.06234550357672973\n",
      "loss_difference_between_true_label_and_probability : 0.06234550357672973\n",
      "loss_difference_between_true_label_and_probability : 0.06102833242695846\n"
     ]
    },
    {
     "data": {
      "image/png": "[encoded data removed]",
      "text/plain": [
       "<Figure size 576x288 with 1 Axes>"
      ]
     },
     "metadata": {
      "needs_background": "light"
     },
     "output_type": "display_data"
    },
    {
     "name": "stdout",
     "output_type": "stream",
     "text": [
      "----------------------------- the execution ends here -----------------------------------------\n"
     ]
    }
   ],
   "source": [
    "#n_clusters =20\n",
    "train_loss = []\n",
    "for n_clusters in np.arange(1,31):\n",
    "    average_loss_with_different_k_values = []\n",
    "\n",
    "    estimator,label_pred,centroids = run_kmeans(n_clusters)\n",
    "\n",
    "    clusters = fill_the_clusters(label_pred)\n",
    "\n",
    "    # print(len(clusters))\n",
    "\n",
    "    loss_difference_between_true_label_and_probability = calculate_loss(clusters)\n",
    "\n",
    "    # print('k is :                                               %s' % n_clusters)\n",
    "    l = np.average(loss_difference_between_true_label_and_probability)\n",
    "    # print(n_clusters, np.average(loss_difference_between_true_label_and_probability))\n",
    "\n",
    "    print('loss_difference_between_true_label_and_probability : %s'% np.average(loss_difference_between_true_label_and_probability))\n",
    "    average_loss_with_different_k_values.append((n_clusters,l))\n",
    "    train_loss.append(np.average(loss_difference_between_true_label_and_probability))\n",
    "\n",
    "\n",
    "xs = np.arange(1,31)\n",
    "ys = train_loss\n",
    "fig, ax = plt.subplots(figsize=(8, 4))\n",
    "ys = np.reshape(ys,(30,-1))\n",
    "ax.plot(xs, ys)\n",
    "ax.set_xlabel('the value of k')\n",
    "ax.set_ylabel('the loss of recommender system, difference between recommendation and reality')\n",
    "plt.show()\n",
    "\n",
    "print('----------------------------- the execution ends here -----------------------------------------')"
   ]
  },
  {
   "cell_type": "code",
   "execution_count": 58,
   "metadata": {},
   "outputs": [
    {
     "name": "stdout",
     "output_type": "stream",
     "text": [
      "loss_difference_between_true_label_and_probability : 0.056154318744004235\n",
      "loss_difference_between_true_label_and_probability : 0.05773037426742818\n",
      "loss_difference_between_true_label_and_probability : 0.05855362771747475\n",
      "loss_difference_between_true_label_and_probability : 0.05739183613641658\n",
      "loss_difference_between_true_label_and_probability : 0.055329893015638\n",
      "loss_difference_between_true_label_and_probability : 0.055329893015638\n",
      "loss_difference_between_true_label_and_probability : 0.05121420944874091\n",
      "loss_difference_between_true_label_and_probability : 0.04990135388956778\n",
      "loss_difference_between_true_label_and_probability : 0.04837989247171317\n",
      "loss_difference_between_true_label_and_probability : 0.051745880878177504\n",
      "loss_difference_between_true_label_and_probability : 0.04843012710967775\n",
      "loss_difference_between_true_label_and_probability : 0.04827212836355659\n",
      "loss_difference_between_true_label_and_probability : 0.04536094055531176\n",
      "loss_difference_between_true_label_and_probability : 0.046119893228512295\n",
      "loss_difference_between_true_label_and_probability : 0.045201570460934364\n",
      "loss_difference_between_true_label_and_probability : 0.04379877627623034\n",
      "loss_difference_between_true_label_and_probability : 0.044695456072280204\n",
      "loss_difference_between_true_label_and_probability : 0.04441294312816102\n",
      "loss_difference_between_true_label_and_probability : 0.041313586182462975\n",
      "loss_difference_between_true_label_and_probability : 0.04114867822519081\n",
      "loss_difference_between_true_label_and_probability : 0.04192242607286958\n",
      "loss_difference_between_true_label_and_probability : 0.04172577887154354\n",
      "loss_difference_between_true_label_and_probability : 0.04029075458486746\n",
      "loss_difference_between_true_label_and_probability : 0.043671420746101135\n",
      "loss_difference_between_true_label_and_probability : 0.04075813322076444\n",
      "loss_difference_between_true_label_and_probability : 0.0409624284645075\n",
      "loss_difference_between_true_label_and_probability : 0.04259179301245529\n",
      "loss_difference_between_true_label_and_probability : 0.041614253481075045\n",
      "loss_difference_between_true_label_and_probability : 0.04259784513759367\n",
      "loss_difference_between_true_label_and_probability : 0.042335192160984095\n"
     ]
    },
    {
     "data": {
      "image/png": "[encoded data removed]",
      "text/plain": [
       "<Figure size 576x288 with 1 Axes>"
      ]
     },
     "metadata": {
      "needs_background": "light"
     },
     "output_type": "display_data"
    },
    {
     "name": "stdout",
     "output_type": "stream",
     "text": [
      "----------------------------- the execution ends here -----------------------------------------\n"
     ]
    }
   ],
   "source": [
    "#n_clusters =20\n",
    "train_loss = []\n",
    "for n_clusters in np.arange(1,31):\n",
    "    average_loss_with_different_k_values = []\n",
    "\n",
    "    estimator,label_pred,centroids = run_kmeans(n_clusters)\n",
    "\n",
    "    clusters = fill_the_clusters(label_pred)\n",
    "\n",
    "    # print(len(clusters))\n",
    "\n",
    "    loss_difference_between_true_label_and_probability = calculate_loss2(clusters)\n",
    "\n",
    "    # print('k is :                                               %s' % n_clusters)\n",
    "    l = np.average(loss_difference_between_true_label_and_probability)\n",
    "    # print(n_clusters, np.average(loss_difference_between_true_label_and_probability))\n",
    "\n",
    "    print('loss_difference_between_true_label_and_probability : %s'% np.average(loss_difference_between_true_label_and_probability))\n",
    "    average_loss_with_different_k_values.append((n_clusters,l))\n",
    "    train_loss.append(np.average(loss_difference_between_true_label_and_probability))\n",
    "\n",
    "\n",
    "xs = np.arange(1,31)\n",
    "ys = train_loss\n",
    "fig, ax = plt.subplots(figsize=(8, 4))\n",
    "ys = np.reshape(ys,(30,-1))\n",
    "ax.plot(xs, ys)\n",
    "ax.set_xlabel('the value of k')\n",
    "ax.set_ylabel('the loss of recommender system, difference between recommendation and reality')\n",
    "plt.show()\n",
    "\n",
    "print('----------------------------- the execution ends here -----------------------------------------')"
   ]
  }
 ],
 "metadata": {
  "kernelspec": {
   "display_name": "Python 3",
   "language": "python",
   "name": "python3"
  },
  "language_info": {
   "codemirror_mode": {
    "name": "ipython",
    "version": 3
   },
   "file_extension": ".py",
   "mimetype": "text/x-python",
   "name": "python",
   "nbconvert_exporter": "python",
   "pygments_lexer": "ipython3",
   "version": "3.7.4"
  }
 },
 "nbformat": 4,
 "nbformat_minor": 2
}
